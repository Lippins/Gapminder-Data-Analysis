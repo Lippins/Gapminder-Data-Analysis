{
 "cells": [
  {
   "cell_type": "markdown",
   "id": "7a41ca62",
   "metadata": {},
   "source": [
    "## Dataset Documentation\n",
    "---\n",
    "#### Relevant csv files selected from the [Gapminder website](https://www.gapminder.org/data/):\n",
    "1. **Human Development Index (HDI):**<br>\n",
    "_An index used to rank countries by level of \"human development\". It is calculated from three dimensions: health level, educational level and living standard._<br>\n",
    "File: `hdi_human_development_index.csv` <br><br>\n",
    "2. **Aged 15+ Employment Rate (%):**<br>_Percentage of total population, age group 15+, that has been employed during the given year_.<br>\n",
    "File: `aged_15plus_employment_rate_percent.csv`<br><br>\n",
    "3. **Income per person (GDP/capita, PPP inflation-adjusted):** _Gross domestic product per person adjusted for differences in purchasing power (in international dollars, fixed 2011 prices, PPP based on 2011 ICP)._<br>\n",
    "File: `income_per_person_gdppercapita_ppp_inflation_adjusted.csv`<br><br>\n",
    "4. **Life Expectancy (Years):**<br>_The average number of years a newborn child would live if current mortality patterns were to stay the same_.<br>\n",
    "File: `life_expectancy_years.csv`<br><br>\n",
    "5. **Babies per woman (total fertility):**<br>_The number of children that would be born to each woman with prevailing age-specific fertility rates_.<br>\n",
    "File: `children_per_woman_total_fertility.csv`<br><br>\n",
    "6. **Population Density (per square km):**<br>_Average number of people on each square km of the land in the given country._<br>\n",
    "File: `population_density_per_square_km.csv`<br><br>\n",
    "7. **Civil liberties Index (IDEA):**<br>_A measure denoting the extent to which civil rights and liberties are respected (on a scale of 1 - 100). The factors considered in its estimation includes freedom of expression, freedom of association and assembly, freedom of religion, freedom of movement, and personal integrity and security._<br>\n",
    "File: `cliberties_idea.csv`<br><br>\n",
    "\n",
    "#### Relevant csv files selected from the [Gapminder github page](https://github.com/open-numbers/ddf--gapminder--systema_globalis/blob/master/ddf--entities--geo--country.csv):\n",
    "8. **`ddf--entities--geo--country.csv`:** <br>_Contains information about different countries, the continents they belong to and their respective world bank regions_."
   ]
  },
  {
   "cell_type": "code",
   "execution_count": 1,
   "id": "fdf994dd",
   "metadata": {},
   "outputs": [],
   "source": [
    "# Importing libraries\n",
    "import numpy as np\n",
    "import pandas as pd\n",
    "import matplotlib.pyplot as plt\n",
    "%matplotlib inline\n",
    "%config InlineBackend.figure_format = 'retina'"
   ]
  },
  {
   "cell_type": "code",
   "execution_count": 2,
   "id": "b3fc6e3a",
   "metadata": {},
   "outputs": [],
   "source": [
    "#Load all dataframes\n",
    "employment_df = pd.read_csv('./csv_files/aged_15plus_employment_rate_percent.csv')\n",
    "locations_df = pd.read_csv('./csv_files/ddf--entities--geo--country.csv')\n",
    "hdi_df = pd.read_csv('./csv_files/hdi_human_development_index.csv')\n",
    "income_df = pd.read_csv('./csv_files/income_per_person_gdppercapita_ppp_inflation_adjusted.csv')\n",
    "fertility_df = pd.read_csv('./csv_files/children_per_woman_total_fertility.csv')\n",
    "life_df = pd.read_csv('./csv_files/life_expectancy_years.csv')\n",
    "population_df = pd.read_csv('./csv_files/population_density_per_square_km.csv')\n",
    "civil_df = pd.read_csv('./csv_files/cliberties_idea.csv')"
   ]
  },
  {
   "cell_type": "markdown",
   "id": "86e1938a",
   "metadata": {},
   "source": [
    "## Previewing Dataframes\n",
    "---"
   ]
  },
  {
   "cell_type": "code",
   "execution_count": 3,
   "id": "6abb4289",
   "metadata": {
    "scrolled": true
   },
   "outputs": [
    {
     "data": {
      "text/html": [
       "<div>\n",
       "<style scoped>\n",
       "    .dataframe tbody tr th:only-of-type {\n",
       "        vertical-align: middle;\n",
       "    }\n",
       "\n",
       "    .dataframe tbody tr th {\n",
       "        vertical-align: top;\n",
       "    }\n",
       "\n",
       "    .dataframe thead th {\n",
       "        text-align: right;\n",
       "    }\n",
       "</style>\n",
       "<table border=\"1\" class=\"dataframe\">\n",
       "  <thead>\n",
       "    <tr style=\"text-align: right;\">\n",
       "      <th></th>\n",
       "      <th>country</th>\n",
       "      <th>1991</th>\n",
       "      <th>1992</th>\n",
       "      <th>1993</th>\n",
       "      <th>1994</th>\n",
       "      <th>1995</th>\n",
       "      <th>1996</th>\n",
       "      <th>1997</th>\n",
       "      <th>1998</th>\n",
       "      <th>1999</th>\n",
       "      <th>...</th>\n",
       "      <th>2011</th>\n",
       "      <th>2012</th>\n",
       "      <th>2013</th>\n",
       "      <th>2014</th>\n",
       "      <th>2015</th>\n",
       "      <th>2016</th>\n",
       "      <th>2017</th>\n",
       "      <th>2018</th>\n",
       "      <th>2019</th>\n",
       "      <th>2020</th>\n",
       "    </tr>\n",
       "  </thead>\n",
       "  <tbody>\n",
       "    <tr>\n",
       "      <th>0</th>\n",
       "      <td>Afghanistan</td>\n",
       "      <td>42.5</td>\n",
       "      <td>42.5</td>\n",
       "      <td>42.5</td>\n",
       "      <td>42.5</td>\n",
       "      <td>42.4</td>\n",
       "      <td>42.4</td>\n",
       "      <td>42.3</td>\n",
       "      <td>42.2</td>\n",
       "      <td>42.2</td>\n",
       "      <td>...</td>\n",
       "      <td>42.3</td>\n",
       "      <td>42.4</td>\n",
       "      <td>42.5</td>\n",
       "      <td>42.7</td>\n",
       "      <td>42.9</td>\n",
       "      <td>43.0</td>\n",
       "      <td>43.2</td>\n",
       "      <td>43.4</td>\n",
       "      <td>43.5</td>\n",
       "      <td>41.5</td>\n",
       "    </tr>\n",
       "    <tr>\n",
       "      <th>1</th>\n",
       "      <td>Angola</td>\n",
       "      <td>75.0</td>\n",
       "      <td>75.0</td>\n",
       "      <td>75.2</td>\n",
       "      <td>75.1</td>\n",
       "      <td>74.9</td>\n",
       "      <td>74.9</td>\n",
       "      <td>74.8</td>\n",
       "      <td>74.7</td>\n",
       "      <td>74.6</td>\n",
       "      <td>...</td>\n",
       "      <td>71.7</td>\n",
       "      <td>71.8</td>\n",
       "      <td>71.8</td>\n",
       "      <td>71.9</td>\n",
       "      <td>71.9</td>\n",
       "      <td>72.0</td>\n",
       "      <td>72.1</td>\n",
       "      <td>72.1</td>\n",
       "      <td>72.1</td>\n",
       "      <td>69.6</td>\n",
       "    </tr>\n",
       "  </tbody>\n",
       "</table>\n",
       "<p>2 rows × 31 columns</p>\n",
       "</div>"
      ],
      "text/plain": [
       "       country  1991  1992  1993  1994  1995  1996  1997  1998  1999  ...  \\\n",
       "0  Afghanistan  42.5  42.5  42.5  42.5  42.4  42.4  42.3  42.2  42.2  ...   \n",
       "1       Angola  75.0  75.0  75.2  75.1  74.9  74.9  74.8  74.7  74.6  ...   \n",
       "\n",
       "   2011  2012  2013  2014  2015  2016  2017  2018  2019  2020  \n",
       "0  42.3  42.4  42.5  42.7  42.9  43.0  43.2  43.4  43.5  41.5  \n",
       "1  71.7  71.8  71.8  71.9  71.9  72.0  72.1  72.1  72.1  69.6  \n",
       "\n",
       "[2 rows x 31 columns]"
      ]
     },
     "execution_count": 3,
     "metadata": {},
     "output_type": "execute_result"
    }
   ],
   "source": [
    "employment_df.head(2)"
   ]
  },
  {
   "cell_type": "code",
   "execution_count": 4,
   "id": "fc95fbda",
   "metadata": {},
   "outputs": [
    {
     "data": {
      "text/html": [
       "<div>\n",
       "<style scoped>\n",
       "    .dataframe tbody tr th:only-of-type {\n",
       "        vertical-align: middle;\n",
       "    }\n",
       "\n",
       "    .dataframe tbody tr th {\n",
       "        vertical-align: top;\n",
       "    }\n",
       "\n",
       "    .dataframe thead th {\n",
       "        text-align: right;\n",
       "    }\n",
       "</style>\n",
       "<table border=\"1\" class=\"dataframe\">\n",
       "  <thead>\n",
       "    <tr style=\"text-align: right;\">\n",
       "      <th></th>\n",
       "      <th>country</th>\n",
       "      <th>g77_and_oecd_countries</th>\n",
       "      <th>income_3groups</th>\n",
       "      <th>income_groups</th>\n",
       "      <th>is--country</th>\n",
       "      <th>iso3166_1_alpha2</th>\n",
       "      <th>iso3166_1_alpha3</th>\n",
       "      <th>iso3166_1_numeric</th>\n",
       "      <th>iso3166_2</th>\n",
       "      <th>landlocked</th>\n",
       "      <th>...</th>\n",
       "      <th>name</th>\n",
       "      <th>un_sdg_ldc</th>\n",
       "      <th>un_sdg_region</th>\n",
       "      <th>un_state</th>\n",
       "      <th>unhcr_region</th>\n",
       "      <th>unicef_region</th>\n",
       "      <th>unicode_region_subtag</th>\n",
       "      <th>west_and_rest</th>\n",
       "      <th>world_4region</th>\n",
       "      <th>world_6region</th>\n",
       "    </tr>\n",
       "  </thead>\n",
       "  <tbody>\n",
       "    <tr>\n",
       "      <th>0</th>\n",
       "      <td>abkh</td>\n",
       "      <td>others</td>\n",
       "      <td>NaN</td>\n",
       "      <td>NaN</td>\n",
       "      <td>True</td>\n",
       "      <td>NaN</td>\n",
       "      <td>NaN</td>\n",
       "      <td>NaN</td>\n",
       "      <td>NaN</td>\n",
       "      <td>NaN</td>\n",
       "      <td>...</td>\n",
       "      <td>Abkhazia</td>\n",
       "      <td>NaN</td>\n",
       "      <td>NaN</td>\n",
       "      <td>False</td>\n",
       "      <td>NaN</td>\n",
       "      <td>NaN</td>\n",
       "      <td>NaN</td>\n",
       "      <td>NaN</td>\n",
       "      <td>europe</td>\n",
       "      <td>europe_central_asia</td>\n",
       "    </tr>\n",
       "    <tr>\n",
       "      <th>1</th>\n",
       "      <td>abw</td>\n",
       "      <td>others</td>\n",
       "      <td>high_income</td>\n",
       "      <td>high_income</td>\n",
       "      <td>True</td>\n",
       "      <td>AW</td>\n",
       "      <td>ABW</td>\n",
       "      <td>533.0</td>\n",
       "      <td>NaN</td>\n",
       "      <td>coastline</td>\n",
       "      <td>...</td>\n",
       "      <td>Aruba</td>\n",
       "      <td>un_not_least_developed</td>\n",
       "      <td>un_latin_america_and_the_caribbean</td>\n",
       "      <td>False</td>\n",
       "      <td>unhcr_americas</td>\n",
       "      <td>NaN</td>\n",
       "      <td>AW</td>\n",
       "      <td>NaN</td>\n",
       "      <td>americas</td>\n",
       "      <td>america</td>\n",
       "    </tr>\n",
       "  </tbody>\n",
       "</table>\n",
       "<p>2 rows × 23 columns</p>\n",
       "</div>"
      ],
      "text/plain": [
       "  country g77_and_oecd_countries income_3groups income_groups  is--country  \\\n",
       "0    abkh                 others            NaN           NaN         True   \n",
       "1     abw                 others    high_income   high_income         True   \n",
       "\n",
       "  iso3166_1_alpha2 iso3166_1_alpha3  iso3166_1_numeric iso3166_2 landlocked  \\\n",
       "0              NaN              NaN                NaN       NaN        NaN   \n",
       "1               AW              ABW              533.0       NaN  coastline   \n",
       "\n",
       "   ...      name              un_sdg_ldc                       un_sdg_region  \\\n",
       "0  ...  Abkhazia                     NaN                                 NaN   \n",
       "1  ...     Aruba  un_not_least_developed  un_latin_america_and_the_caribbean   \n",
       "\n",
       "  un_state    unhcr_region unicef_region  unicode_region_subtag west_and_rest  \\\n",
       "0    False             NaN           NaN                    NaN           NaN   \n",
       "1    False  unhcr_americas           NaN                     AW           NaN   \n",
       "\n",
       "  world_4region        world_6region  \n",
       "0        europe  europe_central_asia  \n",
       "1      americas              america  \n",
       "\n",
       "[2 rows x 23 columns]"
      ]
     },
     "execution_count": 4,
     "metadata": {},
     "output_type": "execute_result"
    }
   ],
   "source": [
    "locations_df.head(2)"
   ]
  },
  {
   "cell_type": "code",
   "execution_count": 5,
   "id": "27177dd8",
   "metadata": {},
   "outputs": [
    {
     "data": {
      "text/html": [
       "<div>\n",
       "<style scoped>\n",
       "    .dataframe tbody tr th:only-of-type {\n",
       "        vertical-align: middle;\n",
       "    }\n",
       "\n",
       "    .dataframe tbody tr th {\n",
       "        vertical-align: top;\n",
       "    }\n",
       "\n",
       "    .dataframe thead th {\n",
       "        text-align: right;\n",
       "    }\n",
       "</style>\n",
       "<table border=\"1\" class=\"dataframe\">\n",
       "  <thead>\n",
       "    <tr style=\"text-align: right;\">\n",
       "      <th></th>\n",
       "      <th>country</th>\n",
       "      <th>1990</th>\n",
       "      <th>1991</th>\n",
       "      <th>1992</th>\n",
       "      <th>1993</th>\n",
       "      <th>1994</th>\n",
       "      <th>1995</th>\n",
       "      <th>1996</th>\n",
       "      <th>1997</th>\n",
       "      <th>1998</th>\n",
       "      <th>...</th>\n",
       "      <th>2010</th>\n",
       "      <th>2011</th>\n",
       "      <th>2012</th>\n",
       "      <th>2013</th>\n",
       "      <th>2014</th>\n",
       "      <th>2015</th>\n",
       "      <th>2016</th>\n",
       "      <th>2017</th>\n",
       "      <th>2018</th>\n",
       "      <th>2019</th>\n",
       "    </tr>\n",
       "  </thead>\n",
       "  <tbody>\n",
       "    <tr>\n",
       "      <th>0</th>\n",
       "      <td>Afghanistan</td>\n",
       "      <td>0.302</td>\n",
       "      <td>0.307</td>\n",
       "      <td>0.316</td>\n",
       "      <td>0.312</td>\n",
       "      <td>0.307</td>\n",
       "      <td>0.331</td>\n",
       "      <td>0.335</td>\n",
       "      <td>0.339</td>\n",
       "      <td>0.344</td>\n",
       "      <td>...</td>\n",
       "      <td>0.472</td>\n",
       "      <td>0.477</td>\n",
       "      <td>0.489</td>\n",
       "      <td>0.496</td>\n",
       "      <td>0.500</td>\n",
       "      <td>0.500</td>\n",
       "      <td>0.502</td>\n",
       "      <td>0.506</td>\n",
       "      <td>0.509</td>\n",
       "      <td>0.511</td>\n",
       "    </tr>\n",
       "    <tr>\n",
       "      <th>1</th>\n",
       "      <td>Angola</td>\n",
       "      <td>NaN</td>\n",
       "      <td>NaN</td>\n",
       "      <td>NaN</td>\n",
       "      <td>NaN</td>\n",
       "      <td>NaN</td>\n",
       "      <td>NaN</td>\n",
       "      <td>NaN</td>\n",
       "      <td>NaN</td>\n",
       "      <td>NaN</td>\n",
       "      <td>...</td>\n",
       "      <td>0.517</td>\n",
       "      <td>0.533</td>\n",
       "      <td>0.544</td>\n",
       "      <td>0.555</td>\n",
       "      <td>0.565</td>\n",
       "      <td>0.572</td>\n",
       "      <td>0.578</td>\n",
       "      <td>0.582</td>\n",
       "      <td>0.582</td>\n",
       "      <td>0.581</td>\n",
       "    </tr>\n",
       "  </tbody>\n",
       "</table>\n",
       "<p>2 rows × 31 columns</p>\n",
       "</div>"
      ],
      "text/plain": [
       "       country   1990   1991   1992   1993   1994   1995   1996   1997   1998  \\\n",
       "0  Afghanistan  0.302  0.307  0.316  0.312  0.307  0.331  0.335  0.339  0.344   \n",
       "1       Angola    NaN    NaN    NaN    NaN    NaN    NaN    NaN    NaN    NaN   \n",
       "\n",
       "   ...   2010   2011   2012   2013   2014   2015   2016   2017   2018   2019  \n",
       "0  ...  0.472  0.477  0.489  0.496  0.500  0.500  0.502  0.506  0.509  0.511  \n",
       "1  ...  0.517  0.533  0.544  0.555  0.565  0.572  0.578  0.582  0.582  0.581  \n",
       "\n",
       "[2 rows x 31 columns]"
      ]
     },
     "execution_count": 5,
     "metadata": {},
     "output_type": "execute_result"
    }
   ],
   "source": [
    "hdi_df.head(2)"
   ]
  },
  {
   "cell_type": "code",
   "execution_count": 6,
   "id": "993f9106",
   "metadata": {},
   "outputs": [
    {
     "data": {
      "text/html": [
       "<div>\n",
       "<style scoped>\n",
       "    .dataframe tbody tr th:only-of-type {\n",
       "        vertical-align: middle;\n",
       "    }\n",
       "\n",
       "    .dataframe tbody tr th {\n",
       "        vertical-align: top;\n",
       "    }\n",
       "\n",
       "    .dataframe thead th {\n",
       "        text-align: right;\n",
       "    }\n",
       "</style>\n",
       "<table border=\"1\" class=\"dataframe\">\n",
       "  <thead>\n",
       "    <tr style=\"text-align: right;\">\n",
       "      <th></th>\n",
       "      <th>country</th>\n",
       "      <th>1800</th>\n",
       "      <th>1801</th>\n",
       "      <th>1802</th>\n",
       "      <th>1803</th>\n",
       "      <th>1804</th>\n",
       "      <th>1805</th>\n",
       "      <th>1806</th>\n",
       "      <th>1807</th>\n",
       "      <th>1808</th>\n",
       "      <th>...</th>\n",
       "      <th>2041</th>\n",
       "      <th>2042</th>\n",
       "      <th>2043</th>\n",
       "      <th>2044</th>\n",
       "      <th>2045</th>\n",
       "      <th>2046</th>\n",
       "      <th>2047</th>\n",
       "      <th>2048</th>\n",
       "      <th>2049</th>\n",
       "      <th>2050</th>\n",
       "    </tr>\n",
       "  </thead>\n",
       "  <tbody>\n",
       "    <tr>\n",
       "      <th>0</th>\n",
       "      <td>Afghanistan</td>\n",
       "      <td>674</td>\n",
       "      <td>674</td>\n",
       "      <td>674</td>\n",
       "      <td>674</td>\n",
       "      <td>674</td>\n",
       "      <td>674</td>\n",
       "      <td>674</td>\n",
       "      <td>674</td>\n",
       "      <td>674</td>\n",
       "      <td>...</td>\n",
       "      <td>2880</td>\n",
       "      <td>2940</td>\n",
       "      <td>3000</td>\n",
       "      <td>3070</td>\n",
       "      <td>3130</td>\n",
       "      <td>3200</td>\n",
       "      <td>3270</td>\n",
       "      <td>3340</td>\n",
       "      <td>3410</td>\n",
       "      <td>3480</td>\n",
       "    </tr>\n",
       "    <tr>\n",
       "      <th>1</th>\n",
       "      <td>Angola</td>\n",
       "      <td>691</td>\n",
       "      <td>693</td>\n",
       "      <td>697</td>\n",
       "      <td>700</td>\n",
       "      <td>702</td>\n",
       "      <td>705</td>\n",
       "      <td>709</td>\n",
       "      <td>712</td>\n",
       "      <td>716</td>\n",
       "      <td>...</td>\n",
       "      <td>8040</td>\n",
       "      <td>8220</td>\n",
       "      <td>8390</td>\n",
       "      <td>8570</td>\n",
       "      <td>8750</td>\n",
       "      <td>8940</td>\n",
       "      <td>9120</td>\n",
       "      <td>9320</td>\n",
       "      <td>9520</td>\n",
       "      <td>9720</td>\n",
       "    </tr>\n",
       "  </tbody>\n",
       "</table>\n",
       "<p>2 rows × 252 columns</p>\n",
       "</div>"
      ],
      "text/plain": [
       "       country  1800  1801  1802  1803  1804  1805  1806  1807  1808  ...  \\\n",
       "0  Afghanistan   674   674   674   674   674   674   674   674   674  ...   \n",
       "1       Angola   691   693   697   700   702   705   709   712   716  ...   \n",
       "\n",
       "   2041  2042  2043  2044  2045  2046  2047  2048  2049  2050  \n",
       "0  2880  2940  3000  3070  3130  3200  3270  3340  3410  3480  \n",
       "1  8040  8220  8390  8570  8750  8940  9120  9320  9520  9720  \n",
       "\n",
       "[2 rows x 252 columns]"
      ]
     },
     "execution_count": 6,
     "metadata": {},
     "output_type": "execute_result"
    }
   ],
   "source": [
    "income_df.head(2)"
   ]
  },
  {
   "cell_type": "code",
   "execution_count": 7,
   "id": "2c0f37c8",
   "metadata": {},
   "outputs": [
    {
     "data": {
      "text/html": [
       "<div>\n",
       "<style scoped>\n",
       "    .dataframe tbody tr th:only-of-type {\n",
       "        vertical-align: middle;\n",
       "    }\n",
       "\n",
       "    .dataframe tbody tr th {\n",
       "        vertical-align: top;\n",
       "    }\n",
       "\n",
       "    .dataframe thead th {\n",
       "        text-align: right;\n",
       "    }\n",
       "</style>\n",
       "<table border=\"1\" class=\"dataframe\">\n",
       "  <thead>\n",
       "    <tr style=\"text-align: right;\">\n",
       "      <th></th>\n",
       "      <th>country</th>\n",
       "      <th>1800</th>\n",
       "      <th>1801</th>\n",
       "      <th>1802</th>\n",
       "      <th>1803</th>\n",
       "      <th>1804</th>\n",
       "      <th>1805</th>\n",
       "      <th>1806</th>\n",
       "      <th>1807</th>\n",
       "      <th>1808</th>\n",
       "      <th>...</th>\n",
       "      <th>2091</th>\n",
       "      <th>2092</th>\n",
       "      <th>2093</th>\n",
       "      <th>2094</th>\n",
       "      <th>2095</th>\n",
       "      <th>2096</th>\n",
       "      <th>2097</th>\n",
       "      <th>2098</th>\n",
       "      <th>2099</th>\n",
       "      <th>2100</th>\n",
       "    </tr>\n",
       "  </thead>\n",
       "  <tbody>\n",
       "    <tr>\n",
       "      <th>0</th>\n",
       "      <td>Aruba</td>\n",
       "      <td>5.64</td>\n",
       "      <td>5.64</td>\n",
       "      <td>5.64</td>\n",
       "      <td>5.64</td>\n",
       "      <td>5.64</td>\n",
       "      <td>5.64</td>\n",
       "      <td>5.64</td>\n",
       "      <td>5.64</td>\n",
       "      <td>5.64</td>\n",
       "      <td>...</td>\n",
       "      <td>1.82</td>\n",
       "      <td>1.82</td>\n",
       "      <td>1.82</td>\n",
       "      <td>1.82</td>\n",
       "      <td>1.82</td>\n",
       "      <td>1.82</td>\n",
       "      <td>1.82</td>\n",
       "      <td>1.82</td>\n",
       "      <td>1.83</td>\n",
       "      <td>1.83</td>\n",
       "    </tr>\n",
       "    <tr>\n",
       "      <th>1</th>\n",
       "      <td>Afghanistan</td>\n",
       "      <td>7.00</td>\n",
       "      <td>7.00</td>\n",
       "      <td>7.00</td>\n",
       "      <td>7.00</td>\n",
       "      <td>7.00</td>\n",
       "      <td>7.00</td>\n",
       "      <td>7.00</td>\n",
       "      <td>7.00</td>\n",
       "      <td>7.00</td>\n",
       "      <td>...</td>\n",
       "      <td>1.74</td>\n",
       "      <td>1.74</td>\n",
       "      <td>1.74</td>\n",
       "      <td>1.74</td>\n",
       "      <td>1.74</td>\n",
       "      <td>1.74</td>\n",
       "      <td>1.74</td>\n",
       "      <td>1.74</td>\n",
       "      <td>1.74</td>\n",
       "      <td>1.74</td>\n",
       "    </tr>\n",
       "  </tbody>\n",
       "</table>\n",
       "<p>2 rows × 302 columns</p>\n",
       "</div>"
      ],
      "text/plain": [
       "       country  1800  1801  1802  1803  1804  1805  1806  1807  1808  ...  \\\n",
       "0        Aruba  5.64  5.64  5.64  5.64  5.64  5.64  5.64  5.64  5.64  ...   \n",
       "1  Afghanistan  7.00  7.00  7.00  7.00  7.00  7.00  7.00  7.00  7.00  ...   \n",
       "\n",
       "   2091  2092  2093  2094  2095  2096  2097  2098  2099  2100  \n",
       "0  1.82  1.82  1.82  1.82  1.82  1.82  1.82  1.82  1.83  1.83  \n",
       "1  1.74  1.74  1.74  1.74  1.74  1.74  1.74  1.74  1.74  1.74  \n",
       "\n",
       "[2 rows x 302 columns]"
      ]
     },
     "execution_count": 7,
     "metadata": {},
     "output_type": "execute_result"
    }
   ],
   "source": [
    "fertility_df.head(2)"
   ]
  },
  {
   "cell_type": "code",
   "execution_count": 8,
   "id": "f7a5caf2",
   "metadata": {},
   "outputs": [
    {
     "data": {
      "text/html": [
       "<div>\n",
       "<style scoped>\n",
       "    .dataframe tbody tr th:only-of-type {\n",
       "        vertical-align: middle;\n",
       "    }\n",
       "\n",
       "    .dataframe tbody tr th {\n",
       "        vertical-align: top;\n",
       "    }\n",
       "\n",
       "    .dataframe thead th {\n",
       "        text-align: right;\n",
       "    }\n",
       "</style>\n",
       "<table border=\"1\" class=\"dataframe\">\n",
       "  <thead>\n",
       "    <tr style=\"text-align: right;\">\n",
       "      <th></th>\n",
       "      <th>country</th>\n",
       "      <th>1800</th>\n",
       "      <th>1801</th>\n",
       "      <th>1802</th>\n",
       "      <th>1803</th>\n",
       "      <th>1804</th>\n",
       "      <th>1805</th>\n",
       "      <th>1806</th>\n",
       "      <th>1807</th>\n",
       "      <th>1808</th>\n",
       "      <th>...</th>\n",
       "      <th>2091</th>\n",
       "      <th>2092</th>\n",
       "      <th>2093</th>\n",
       "      <th>2094</th>\n",
       "      <th>2095</th>\n",
       "      <th>2096</th>\n",
       "      <th>2097</th>\n",
       "      <th>2098</th>\n",
       "      <th>2099</th>\n",
       "      <th>2100</th>\n",
       "    </tr>\n",
       "  </thead>\n",
       "  <tbody>\n",
       "    <tr>\n",
       "      <th>0</th>\n",
       "      <td>Afghanistan</td>\n",
       "      <td>28.2</td>\n",
       "      <td>28.2</td>\n",
       "      <td>28.2</td>\n",
       "      <td>28.2</td>\n",
       "      <td>28.2</td>\n",
       "      <td>28.2</td>\n",
       "      <td>28.1</td>\n",
       "      <td>28.1</td>\n",
       "      <td>28.1</td>\n",
       "      <td>...</td>\n",
       "      <td>75.5</td>\n",
       "      <td>75.7</td>\n",
       "      <td>75.8</td>\n",
       "      <td>76.0</td>\n",
       "      <td>76.1</td>\n",
       "      <td>76.2</td>\n",
       "      <td>76.4</td>\n",
       "      <td>76.5</td>\n",
       "      <td>76.6</td>\n",
       "      <td>76.8</td>\n",
       "    </tr>\n",
       "    <tr>\n",
       "      <th>1</th>\n",
       "      <td>Angola</td>\n",
       "      <td>27.0</td>\n",
       "      <td>27.0</td>\n",
       "      <td>27.0</td>\n",
       "      <td>27.0</td>\n",
       "      <td>27.0</td>\n",
       "      <td>27.0</td>\n",
       "      <td>27.0</td>\n",
       "      <td>27.0</td>\n",
       "      <td>27.0</td>\n",
       "      <td>...</td>\n",
       "      <td>78.8</td>\n",
       "      <td>79.0</td>\n",
       "      <td>79.1</td>\n",
       "      <td>79.2</td>\n",
       "      <td>79.3</td>\n",
       "      <td>79.5</td>\n",
       "      <td>79.6</td>\n",
       "      <td>79.7</td>\n",
       "      <td>79.9</td>\n",
       "      <td>80.0</td>\n",
       "    </tr>\n",
       "  </tbody>\n",
       "</table>\n",
       "<p>2 rows × 302 columns</p>\n",
       "</div>"
      ],
      "text/plain": [
       "       country  1800  1801  1802  1803  1804  1805  1806  1807  1808  ...  \\\n",
       "0  Afghanistan  28.2  28.2  28.2  28.2  28.2  28.2  28.1  28.1  28.1  ...   \n",
       "1       Angola  27.0  27.0  27.0  27.0  27.0  27.0  27.0  27.0  27.0  ...   \n",
       "\n",
       "   2091  2092  2093  2094  2095  2096  2097  2098  2099  2100  \n",
       "0  75.5  75.7  75.8  76.0  76.1  76.2  76.4  76.5  76.6  76.8  \n",
       "1  78.8  79.0  79.1  79.2  79.3  79.5  79.6  79.7  79.9  80.0  \n",
       "\n",
       "[2 rows x 302 columns]"
      ]
     },
     "execution_count": 8,
     "metadata": {},
     "output_type": "execute_result"
    }
   ],
   "source": [
    "life_df.head(2)"
   ]
  },
  {
   "cell_type": "code",
   "execution_count": 9,
   "id": "225e516e",
   "metadata": {},
   "outputs": [
    {
     "data": {
      "text/html": [
       "<div>\n",
       "<style scoped>\n",
       "    .dataframe tbody tr th:only-of-type {\n",
       "        vertical-align: middle;\n",
       "    }\n",
       "\n",
       "    .dataframe tbody tr th {\n",
       "        vertical-align: top;\n",
       "    }\n",
       "\n",
       "    .dataframe thead th {\n",
       "        text-align: right;\n",
       "    }\n",
       "</style>\n",
       "<table border=\"1\" class=\"dataframe\">\n",
       "  <thead>\n",
       "    <tr style=\"text-align: right;\">\n",
       "      <th></th>\n",
       "      <th>country</th>\n",
       "      <th>1950</th>\n",
       "      <th>1951</th>\n",
       "      <th>1952</th>\n",
       "      <th>1953</th>\n",
       "      <th>1954</th>\n",
       "      <th>1955</th>\n",
       "      <th>1956</th>\n",
       "      <th>1957</th>\n",
       "      <th>1958</th>\n",
       "      <th>...</th>\n",
       "      <th>2091</th>\n",
       "      <th>2092</th>\n",
       "      <th>2093</th>\n",
       "      <th>2094</th>\n",
       "      <th>2095</th>\n",
       "      <th>2096</th>\n",
       "      <th>2097</th>\n",
       "      <th>2098</th>\n",
       "      <th>2099</th>\n",
       "      <th>2100</th>\n",
       "    </tr>\n",
       "  </thead>\n",
       "  <tbody>\n",
       "    <tr>\n",
       "      <th>0</th>\n",
       "      <td>Aruba</td>\n",
       "      <td>211</td>\n",
       "      <td>213</td>\n",
       "      <td>216</td>\n",
       "      <td>223</td>\n",
       "      <td>232</td>\n",
       "      <td>243</td>\n",
       "      <td>255</td>\n",
       "      <td>268</td>\n",
       "      <td>281</td>\n",
       "      <td>...</td>\n",
       "      <td>576</td>\n",
       "      <td>575</td>\n",
       "      <td>574</td>\n",
       "      <td>573</td>\n",
       "      <td>572</td>\n",
       "      <td>572</td>\n",
       "      <td>571</td>\n",
       "      <td>570</td>\n",
       "      <td>569</td>\n",
       "      <td>568</td>\n",
       "    </tr>\n",
       "    <tr>\n",
       "      <th>1</th>\n",
       "      <td>Afghanistan</td>\n",
       "      <td>11.9</td>\n",
       "      <td>12</td>\n",
       "      <td>12.2</td>\n",
       "      <td>12.3</td>\n",
       "      <td>12.5</td>\n",
       "      <td>12.7</td>\n",
       "      <td>12.9</td>\n",
       "      <td>13.1</td>\n",
       "      <td>13.3</td>\n",
       "      <td>...</td>\n",
       "      <td>117</td>\n",
       "      <td>117</td>\n",
       "      <td>117</td>\n",
       "      <td>117</td>\n",
       "      <td>116</td>\n",
       "      <td>116</td>\n",
       "      <td>116</td>\n",
       "      <td>115</td>\n",
       "      <td>115</td>\n",
       "      <td>115</td>\n",
       "    </tr>\n",
       "  </tbody>\n",
       "</table>\n",
       "<p>2 rows × 152 columns</p>\n",
       "</div>"
      ],
      "text/plain": [
       "       country  1950 1951  1952  1953  1954  1955  1956  1957  1958  ... 2091  \\\n",
       "0        Aruba   211  213   216   223   232   243   255   268   281  ...  576   \n",
       "1  Afghanistan  11.9   12  12.2  12.3  12.5  12.7  12.9  13.1  13.3  ...  117   \n",
       "\n",
       "  2092 2093 2094 2095 2096 2097 2098 2099 2100  \n",
       "0  575  574  573  572  572  571  570  569  568  \n",
       "1  117  117  117  116  116  116  115  115  115  \n",
       "\n",
       "[2 rows x 152 columns]"
      ]
     },
     "execution_count": 9,
     "metadata": {},
     "output_type": "execute_result"
    }
   ],
   "source": [
    "population_df.head(2)"
   ]
  },
  {
   "cell_type": "code",
   "execution_count": 10,
   "id": "9615d14b",
   "metadata": {
    "scrolled": true
   },
   "outputs": [
    {
     "data": {
      "text/html": [
       "<div>\n",
       "<style scoped>\n",
       "    .dataframe tbody tr th:only-of-type {\n",
       "        vertical-align: middle;\n",
       "    }\n",
       "\n",
       "    .dataframe tbody tr th {\n",
       "        vertical-align: top;\n",
       "    }\n",
       "\n",
       "    .dataframe thead th {\n",
       "        text-align: right;\n",
       "    }\n",
       "</style>\n",
       "<table border=\"1\" class=\"dataframe\">\n",
       "  <thead>\n",
       "    <tr style=\"text-align: right;\">\n",
       "      <th></th>\n",
       "      <th>country</th>\n",
       "      <th>1975</th>\n",
       "      <th>1976</th>\n",
       "      <th>1977</th>\n",
       "      <th>1978</th>\n",
       "      <th>1979</th>\n",
       "      <th>1980</th>\n",
       "      <th>1981</th>\n",
       "      <th>1982</th>\n",
       "      <th>1983</th>\n",
       "      <th>...</th>\n",
       "      <th>2010</th>\n",
       "      <th>2011</th>\n",
       "      <th>2012</th>\n",
       "      <th>2013</th>\n",
       "      <th>2014</th>\n",
       "      <th>2015</th>\n",
       "      <th>2016</th>\n",
       "      <th>2017</th>\n",
       "      <th>2018</th>\n",
       "      <th>2019</th>\n",
       "    </tr>\n",
       "  </thead>\n",
       "  <tbody>\n",
       "    <tr>\n",
       "      <th>0</th>\n",
       "      <td>Afghanistan</td>\n",
       "      <td>33.1</td>\n",
       "      <td>32.8</td>\n",
       "      <td>32.9</td>\n",
       "      <td>21.7</td>\n",
       "      <td>16.5</td>\n",
       "      <td>17.8</td>\n",
       "      <td>18.9</td>\n",
       "      <td>18.3</td>\n",
       "      <td>18.2</td>\n",
       "      <td>...</td>\n",
       "      <td>48.5</td>\n",
       "      <td>49.3</td>\n",
       "      <td>51.4</td>\n",
       "      <td>49.1</td>\n",
       "      <td>49.1</td>\n",
       "      <td>48.7</td>\n",
       "      <td>47.0</td>\n",
       "      <td>47.1</td>\n",
       "      <td>50.0</td>\n",
       "      <td>44.5</td>\n",
       "    </tr>\n",
       "    <tr>\n",
       "      <th>1</th>\n",
       "      <td>Angola</td>\n",
       "      <td>16.2</td>\n",
       "      <td>17.3</td>\n",
       "      <td>15.1</td>\n",
       "      <td>15.1</td>\n",
       "      <td>15.3</td>\n",
       "      <td>17.3</td>\n",
       "      <td>17.4</td>\n",
       "      <td>17.4</td>\n",
       "      <td>18.1</td>\n",
       "      <td>...</td>\n",
       "      <td>44.6</td>\n",
       "      <td>43.5</td>\n",
       "      <td>44.0</td>\n",
       "      <td>42.8</td>\n",
       "      <td>42.9</td>\n",
       "      <td>42.7</td>\n",
       "      <td>43.8</td>\n",
       "      <td>44.9</td>\n",
       "      <td>48.5</td>\n",
       "      <td>49.6</td>\n",
       "    </tr>\n",
       "  </tbody>\n",
       "</table>\n",
       "<p>2 rows × 46 columns</p>\n",
       "</div>"
      ],
      "text/plain": [
       "       country  1975  1976  1977  1978  1979  1980  1981  1982  1983  ...  \\\n",
       "0  Afghanistan  33.1  32.8  32.9  21.7  16.5  17.8  18.9  18.3  18.2  ...   \n",
       "1       Angola  16.2  17.3  15.1  15.1  15.3  17.3  17.4  17.4  18.1  ...   \n",
       "\n",
       "   2010  2011  2012  2013  2014  2015  2016  2017  2018  2019  \n",
       "0  48.5  49.3  51.4  49.1  49.1  48.7  47.0  47.1  50.0  44.5  \n",
       "1  44.6  43.5  44.0  42.8  42.9  42.7  43.8  44.9  48.5  49.6  \n",
       "\n",
       "[2 rows x 46 columns]"
      ]
     },
     "execution_count": 10,
     "metadata": {},
     "output_type": "execute_result"
    }
   ],
   "source": [
    "civil_df.head(2)"
   ]
  },
  {
   "cell_type": "markdown",
   "id": "af142edb",
   "metadata": {},
   "source": [
    "## Selecting Columns to Utilize\n",
    "---"
   ]
  },
  {
   "cell_type": "code",
   "execution_count": 11,
   "id": "f932ed0d",
   "metadata": {
    "scrolled": true
   },
   "outputs": [],
   "source": [
    "# Select common columns from all dataframes\n",
    "wanted_columns = employment_df.columns[:-1]\n",
    "# Define a function to perform the trimming process\n",
    "def trim_df(df, columns):\n",
    "    \"\"\" Returns modified copy of passed dataframe, sliced by specified columns \"\"\"\n",
    "    return df[columns]"
   ]
  },
  {
   "cell_type": "code",
   "execution_count": 12,
   "id": "8afd7bd8",
   "metadata": {},
   "outputs": [],
   "source": [
    "# Trim all dataframes down to the wanted columns\n",
    "hdi_df = trim_df(hdi_df, wanted_columns)\n",
    "income_df = trim_df(income_df, wanted_columns)\n",
    "life_df = trim_df(life_df, wanted_columns)\n",
    "civil_df = trim_df(civil_df, wanted_columns)\n",
    "population_df = trim_df(population_df, wanted_columns)\n",
    "fertility_df = trim_df(fertility_df, wanted_columns)"
   ]
  },
  {
   "cell_type": "markdown",
   "id": "111dcdd4",
   "metadata": {},
   "source": [
    "From **`locations_df`** we only need the `name`, `world4_region` and `world6_region` columns:"
   ]
  },
  {
   "cell_type": "code",
   "execution_count": 13,
   "id": "6cca1d09",
   "metadata": {},
   "outputs": [],
   "source": [
    "# Select wanted columns from locations_df\n",
    "locations_df = locations_df[['name', 'world_4region', 'world_6region']]"
   ]
  },
  {
   "cell_type": "code",
   "execution_count": 14,
   "id": "3a8ead89",
   "metadata": {},
   "outputs": [
    {
     "name": "stdout",
     "output_type": "stream",
     "text": [
      "Index(['name', 'world_4region', 'world_6region'], dtype='object')\n",
      "--------------------------------------------------------------------------------\n",
      "Index(['country', '1991', '1992', '1993', '1994', '1995', '1996', '1997',\n",
      "       '1998', '1999', '2000', '2001', '2002', '2003', '2004', '2005', '2006',\n",
      "       '2007', '2008', '2009', '2010', '2011', '2012', '2013', '2014', '2015',\n",
      "       '2016', '2017', '2018', '2019'],\n",
      "      dtype='object')\n",
      "--------------------------------------------------------------------------------\n",
      "Index(['country', '1991', '1992', '1993', '1994', '1995', '1996', '1997',\n",
      "       '1998', '1999', '2000', '2001', '2002', '2003', '2004', '2005', '2006',\n",
      "       '2007', '2008', '2009', '2010', '2011', '2012', '2013', '2014', '2015',\n",
      "       '2016', '2017', '2018', '2019', '2020'],\n",
      "      dtype='object')\n",
      "--------------------------------------------------------------------------------\n",
      "Index(['country', '1991', '1992', '1993', '1994', '1995', '1996', '1997',\n",
      "       '1998', '1999', '2000', '2001', '2002', '2003', '2004', '2005', '2006',\n",
      "       '2007', '2008', '2009', '2010', '2011', '2012', '2013', '2014', '2015',\n",
      "       '2016', '2017', '2018', '2019'],\n",
      "      dtype='object')\n",
      "--------------------------------------------------------------------------------\n",
      "Index(['country', '1991', '1992', '1993', '1994', '1995', '1996', '1997',\n",
      "       '1998', '1999', '2000', '2001', '2002', '2003', '2004', '2005', '2006',\n",
      "       '2007', '2008', '2009', '2010', '2011', '2012', '2013', '2014', '2015',\n",
      "       '2016', '2017', '2018', '2019'],\n",
      "      dtype='object')\n",
      "--------------------------------------------------------------------------------\n",
      "Index(['country', '1991', '1992', '1993', '1994', '1995', '1996', '1997',\n",
      "       '1998', '1999', '2000', '2001', '2002', '2003', '2004', '2005', '2006',\n",
      "       '2007', '2008', '2009', '2010', '2011', '2012', '2013', '2014', '2015',\n",
      "       '2016', '2017', '2018', '2019'],\n",
      "      dtype='object')\n",
      "--------------------------------------------------------------------------------\n",
      "Index(['country', '1991', '1992', '1993', '1994', '1995', '1996', '1997',\n",
      "       '1998', '1999', '2000', '2001', '2002', '2003', '2004', '2005', '2006',\n",
      "       '2007', '2008', '2009', '2010', '2011', '2012', '2013', '2014', '2015',\n",
      "       '2016', '2017', '2018', '2019'],\n",
      "      dtype='object')\n",
      "--------------------------------------------------------------------------------\n",
      "Index(['country', '1991', '1992', '1993', '1994', '1995', '1996', '1997',\n",
      "       '1998', '1999', '2000', '2001', '2002', '2003', '2004', '2005', '2006',\n",
      "       '2007', '2008', '2009', '2010', '2011', '2012', '2013', '2014', '2015',\n",
      "       '2016', '2017', '2018', '2019'],\n",
      "      dtype='object')\n",
      "--------------------------------------------------------------------------------\n"
     ]
    }
   ],
   "source": [
    "# Create a list of all dataframes\n",
    "df_list = [locations_df, hdi_df, employment_df, income_df, life_df, civil_df, population_df, fertility_df]\n",
    "\n",
    "# Preview our column selection results\n",
    "for df in df_list:\n",
    "    print(df.columns)\n",
    "    print('-'*80)"
   ]
  },
  {
   "cell_type": "markdown",
   "id": "61c2ab07",
   "metadata": {},
   "source": [
    "## Transposing Our Data\n",
    "---"
   ]
  },
  {
   "cell_type": "code",
   "execution_count": 15,
   "id": "bf9cafa3",
   "metadata": {},
   "outputs": [],
   "source": [
    "def melt_df(df, name):\n",
    "    \"\"\" Converts a dataframe into a long format with all years in one column \"\"\"\n",
    "    return pd.melt(df, id_vars=['country'], value_name=name, var_name='year')"
   ]
  },
  {
   "cell_type": "code",
   "execution_count": 16,
   "id": "a02416ec",
   "metadata": {},
   "outputs": [],
   "source": [
    "employment_df = melt_df(employment_df, 'empl_rate')\n",
    "hdi_df = melt_df(hdi_df, 'hdi_score')\n",
    "income_df = melt_df(income_df, 'income_pp')\n",
    "life_df = melt_df(life_df, 'life_exp')\n",
    "civil_df = melt_df(civil_df, 'lib_score')\n",
    "population_df = melt_df(population_df, 'pop_density')\n",
    "fertility_df = melt_df(fertility_df, 'fert_rate')"
   ]
  },
  {
   "cell_type": "code",
   "execution_count": 17,
   "id": "f08dc580",
   "metadata": {
    "scrolled": false
   },
   "outputs": [
    {
     "name": "stdout",
     "output_type": "stream",
     "text": [
      "                country  year  hdi_score\n",
      "0           Afghanistan  1991      0.307\n",
      "1                Angola  1991        NaN\n",
      "2               Albania  1991      0.631\n",
      "3               Andorra  1991        NaN\n",
      "4  United Arab Emirates  1991      0.735\n",
      "--------------------------------------------------\n",
      "                country  year  empl_rate\n",
      "0           Afghanistan  1991       42.5\n",
      "1                Angola  1991       75.0\n",
      "2               Albania  1991       57.8\n",
      "3  United Arab Emirates  1991       71.8\n",
      "4             Argentina  1991       57.3\n",
      "--------------------------------------------------\n",
      "                country  year income_pp\n",
      "0           Afghanistan  1991      1010\n",
      "1                Angola  1991      1650\n",
      "2               Albania  1991      3510\n",
      "3               Andorra  1991     31.3k\n",
      "4  United Arab Emirates  1991     50.3k\n",
      "--------------------------------------------------\n",
      "                country  year  life_exp\n",
      "0           Afghanistan  1991      53.8\n",
      "1                Angola  1991      50.3\n",
      "2               Albania  1991      72.6\n",
      "3               Andorra  1991      79.1\n",
      "4  United Arab Emirates  1991      68.7\n",
      "--------------------------------------------------\n",
      "                country  year  lib_score\n",
      "0           Afghanistan  1991       19.1\n",
      "1                Angola  1991       29.8\n",
      "2               Albania  1991       54.1\n",
      "3  United Arab Emirates  1991       38.2\n",
      "4             Argentina  1991       80.1\n",
      "--------------------------------------------------\n",
      "       country  year pop_density\n",
      "0        Aruba  1991         359\n",
      "1  Afghanistan  1991        20.4\n",
      "2       Angola  1991        9.83\n",
      "3     Anguilla  1991         102\n",
      "4      Albania  1991         120\n",
      "--------------------------------------------------\n",
      "                country  year  fert_rate\n",
      "0                 Aruba  1991       2.22\n",
      "1           Afghanistan  1991       7.48\n",
      "2                Angola  1991       7.19\n",
      "3               Albania  1991       2.91\n",
      "4  Netherlands Antilles  1991       2.29\n",
      "--------------------------------------------------\n"
     ]
    }
   ],
   "source": [
    "df_list = [locations_df, hdi_df, employment_df, income_df, life_df, civil_df, population_df, fertility_df]\n",
    "# Preview our transposed data\n",
    "for df in df_list[1:]:\n",
    "    print(df.head())\n",
    "    print('-'*50)"
   ]
  },
  {
   "cell_type": "markdown",
   "id": "d716216e",
   "metadata": {},
   "source": [
    "## Combining Our Data\n",
    "---\n",
    "First, we will assign descriptive names to the columns in `location_df`:"
   ]
  },
  {
   "cell_type": "code",
   "execution_count": 18,
   "id": "5cec2a60",
   "metadata": {},
   "outputs": [
    {
     "data": {
      "text/html": [
       "<div>\n",
       "<style scoped>\n",
       "    .dataframe tbody tr th:only-of-type {\n",
       "        vertical-align: middle;\n",
       "    }\n",
       "\n",
       "    .dataframe tbody tr th {\n",
       "        vertical-align: top;\n",
       "    }\n",
       "\n",
       "    .dataframe thead th {\n",
       "        text-align: right;\n",
       "    }\n",
       "</style>\n",
       "<table border=\"1\" class=\"dataframe\">\n",
       "  <thead>\n",
       "    <tr style=\"text-align: right;\">\n",
       "      <th></th>\n",
       "      <th>country</th>\n",
       "      <th>continent</th>\n",
       "      <th>region</th>\n",
       "    </tr>\n",
       "  </thead>\n",
       "  <tbody>\n",
       "    <tr>\n",
       "      <th>0</th>\n",
       "      <td>Abkhazia</td>\n",
       "      <td>europe</td>\n",
       "      <td>europe_central_asia</td>\n",
       "    </tr>\n",
       "    <tr>\n",
       "      <th>1</th>\n",
       "      <td>Aruba</td>\n",
       "      <td>americas</td>\n",
       "      <td>america</td>\n",
       "    </tr>\n",
       "  </tbody>\n",
       "</table>\n",
       "</div>"
      ],
      "text/plain": [
       "    country continent               region\n",
       "0  Abkhazia    europe  europe_central_asia\n",
       "1     Aruba  americas              america"
      ]
     },
     "execution_count": 18,
     "metadata": {},
     "output_type": "execute_result"
    }
   ],
   "source": [
    "locations_df.rename(columns={'name': 'country',\n",
    "                            'world_4region': 'continent',\n",
    "                            'world_6region':'region'\n",
    "                           }, inplace=True)\n",
    "locations_df.head(2)"
   ]
  },
  {
   "cell_type": "code",
   "execution_count": 19,
   "id": "75e30303",
   "metadata": {},
   "outputs": [
    {
     "data": {
      "text/html": [
       "<div>\n",
       "<style scoped>\n",
       "    .dataframe tbody tr th:only-of-type {\n",
       "        vertical-align: middle;\n",
       "    }\n",
       "\n",
       "    .dataframe tbody tr th {\n",
       "        vertical-align: top;\n",
       "    }\n",
       "\n",
       "    .dataframe thead th {\n",
       "        text-align: right;\n",
       "    }\n",
       "</style>\n",
       "<table border=\"1\" class=\"dataframe\">\n",
       "  <thead>\n",
       "    <tr style=\"text-align: right;\">\n",
       "      <th></th>\n",
       "      <th>country</th>\n",
       "      <th>continent</th>\n",
       "      <th>region</th>\n",
       "      <th>year</th>\n",
       "      <th>hdi_score</th>\n",
       "    </tr>\n",
       "  </thead>\n",
       "  <tbody>\n",
       "    <tr>\n",
       "      <th>0</th>\n",
       "      <td>Afghanistan</td>\n",
       "      <td>asia</td>\n",
       "      <td>south_asia</td>\n",
       "      <td>1991</td>\n",
       "      <td>0.307</td>\n",
       "    </tr>\n",
       "    <tr>\n",
       "      <th>1</th>\n",
       "      <td>Afghanistan</td>\n",
       "      <td>asia</td>\n",
       "      <td>south_asia</td>\n",
       "      <td>1992</td>\n",
       "      <td>0.316</td>\n",
       "    </tr>\n",
       "    <tr>\n",
       "      <th>2</th>\n",
       "      <td>Afghanistan</td>\n",
       "      <td>asia</td>\n",
       "      <td>south_asia</td>\n",
       "      <td>1993</td>\n",
       "      <td>0.312</td>\n",
       "    </tr>\n",
       "  </tbody>\n",
       "</table>\n",
       "</div>"
      ],
      "text/plain": [
       "       country continent      region  year  hdi_score\n",
       "0  Afghanistan      asia  south_asia  1991      0.307\n",
       "1  Afghanistan      asia  south_asia  1992      0.316\n",
       "2  Afghanistan      asia  south_asia  1993      0.312"
      ]
     },
     "execution_count": 19,
     "metadata": {},
     "output_type": "execute_result"
    }
   ],
   "source": [
    "# Merge the countries in hdi_df and their location info\n",
    "combined_df = pd.merge(locations_df, hdi_df)\n",
    "combined_df.head(3)"
   ]
  },
  {
   "cell_type": "code",
   "execution_count": 20,
   "id": "055fde43",
   "metadata": {},
   "outputs": [
    {
     "data": {
      "text/html": [
       "<div>\n",
       "<style scoped>\n",
       "    .dataframe tbody tr th:only-of-type {\n",
       "        vertical-align: middle;\n",
       "    }\n",
       "\n",
       "    .dataframe tbody tr th {\n",
       "        vertical-align: top;\n",
       "    }\n",
       "\n",
       "    .dataframe thead th {\n",
       "        text-align: right;\n",
       "    }\n",
       "</style>\n",
       "<table border=\"1\" class=\"dataframe\">\n",
       "  <thead>\n",
       "    <tr style=\"text-align: right;\">\n",
       "      <th></th>\n",
       "      <th>country</th>\n",
       "      <th>continent</th>\n",
       "      <th>region</th>\n",
       "      <th>year</th>\n",
       "      <th>hdi_score</th>\n",
       "      <th>empl_rate</th>\n",
       "      <th>income_pp</th>\n",
       "      <th>life_exp</th>\n",
       "      <th>lib_score</th>\n",
       "      <th>pop_density</th>\n",
       "      <th>fert_rate</th>\n",
       "    </tr>\n",
       "  </thead>\n",
       "  <tbody>\n",
       "    <tr>\n",
       "      <th>0</th>\n",
       "      <td>Afghanistan</td>\n",
       "      <td>asia</td>\n",
       "      <td>south_asia</td>\n",
       "      <td>1991</td>\n",
       "      <td>0.307</td>\n",
       "      <td>42.5</td>\n",
       "      <td>1010</td>\n",
       "      <td>53.8</td>\n",
       "      <td>19.1</td>\n",
       "      <td>20.4</td>\n",
       "      <td>7.48</td>\n",
       "    </tr>\n",
       "    <tr>\n",
       "      <th>1</th>\n",
       "      <td>Afghanistan</td>\n",
       "      <td>asia</td>\n",
       "      <td>south_asia</td>\n",
       "      <td>1992</td>\n",
       "      <td>0.316</td>\n",
       "      <td>42.5</td>\n",
       "      <td>971</td>\n",
       "      <td>54.2</td>\n",
       "      <td>21.6</td>\n",
       "      <td>22.2</td>\n",
       "      <td>7.50</td>\n",
       "    </tr>\n",
       "    <tr>\n",
       "      <th>2</th>\n",
       "      <td>Afghanistan</td>\n",
       "      <td>asia</td>\n",
       "      <td>south_asia</td>\n",
       "      <td>1993</td>\n",
       "      <td>0.312</td>\n",
       "      <td>42.5</td>\n",
       "      <td>665</td>\n",
       "      <td>54.4</td>\n",
       "      <td>23.0</td>\n",
       "      <td>24.2</td>\n",
       "      <td>7.54</td>\n",
       "    </tr>\n",
       "    <tr>\n",
       "      <th>3</th>\n",
       "      <td>Afghanistan</td>\n",
       "      <td>asia</td>\n",
       "      <td>south_asia</td>\n",
       "      <td>1994</td>\n",
       "      <td>0.307</td>\n",
       "      <td>42.5</td>\n",
       "      <td>493</td>\n",
       "      <td>53.9</td>\n",
       "      <td>21.4</td>\n",
       "      <td>26.2</td>\n",
       "      <td>7.57</td>\n",
       "    </tr>\n",
       "    <tr>\n",
       "      <th>4</th>\n",
       "      <td>Afghanistan</td>\n",
       "      <td>asia</td>\n",
       "      <td>south_asia</td>\n",
       "      <td>1995</td>\n",
       "      <td>0.331</td>\n",
       "      <td>42.4</td>\n",
       "      <td>728</td>\n",
       "      <td>54.3</td>\n",
       "      <td>20.8</td>\n",
       "      <td>27.7</td>\n",
       "      <td>7.61</td>\n",
       "    </tr>\n",
       "  </tbody>\n",
       "</table>\n",
       "</div>"
      ],
      "text/plain": [
       "       country continent      region  year  hdi_score  empl_rate income_pp  \\\n",
       "0  Afghanistan      asia  south_asia  1991      0.307       42.5      1010   \n",
       "1  Afghanistan      asia  south_asia  1992      0.316       42.5       971   \n",
       "2  Afghanistan      asia  south_asia  1993      0.312       42.5       665   \n",
       "3  Afghanistan      asia  south_asia  1994      0.307       42.5       493   \n",
       "4  Afghanistan      asia  south_asia  1995      0.331       42.4       728   \n",
       "\n",
       "   life_exp  lib_score pop_density  fert_rate  \n",
       "0      53.8       19.1        20.4       7.48  \n",
       "1      54.2       21.6        22.2       7.50  \n",
       "2      54.4       23.0        24.2       7.54  \n",
       "3      53.9       21.4        26.2       7.57  \n",
       "4      54.3       20.8        27.7       7.61  "
      ]
     },
     "execution_count": 20,
     "metadata": {},
     "output_type": "execute_result"
    }
   ],
   "source": [
    "# Loop through and combine all dataframes\n",
    "for df in (employment_df, income_df, life_df, civil_df, population_df, fertility_df):\n",
    "    combined_df = pd.merge(combined_df, df, on=['country', 'year'])\n",
    "\n",
    "# Sort each entry in the combined dataframe by country and year\n",
    "combined_df.sort_values(by=['country', 'year'], inplace=True)\n",
    "combined_df.head()"
   ]
  },
  {
   "cell_type": "markdown",
   "id": "c300905e",
   "metadata": {},
   "source": [
    "Now that we have a combined dataframe, we can start exploring its characteristics:"
   ]
  },
  {
   "cell_type": "code",
   "execution_count": 21,
   "id": "7b9f5234",
   "metadata": {
    "scrolled": false
   },
   "outputs": [
    {
     "name": "stdout",
     "output_type": "stream",
     "text": [
      "The combined dataframe has 4,553 rows and 11 columns.\n",
      "The combined dataframe has 0 duplicate records.\n",
      "\n",
      "\u001b[1mDatatypes in the combined dataframe:\u001b[0m\n",
      "country         object\n",
      "continent       object\n",
      "region          object\n",
      "year            object\n",
      "hdi_score      float64\n",
      "empl_rate      float64\n",
      "income_pp       object\n",
      "life_exp       float64\n",
      "lib_score      float64\n",
      "pop_density     object\n",
      "fert_rate      float64\n",
      "dtype: object \n",
      "\n",
      "\u001b[1mNull values in each column of the combined dataframe:\u001b[0m\n",
      "country          0\n",
      "continent        0\n",
      "region           0\n",
      "year             0\n",
      "hdi_score      224\n",
      "empl_rate        0\n",
      "income_pp        0\n",
      "life_exp         0\n",
      "lib_score       36\n",
      "pop_density      0\n",
      "fert_rate        0\n",
      "dtype: int64\n"
     ]
    }
   ],
   "source": [
    "# Explore rows and column size\n",
    "print('The combined dataframe has {:,} rows and {} columns.'.format(combined_df.shape[0], combined_df.shape[1]))\n",
    "# Explore duplicates\n",
    "print('The combined dataframe has {:,} duplicate records.'.format(combined_df.duplicated().sum()))\n",
    "print()\n",
    "# Explore datatypes\n",
    "print('\\033[1m'+'Datatypes in the combined dataframe:'+'\\033[0m')\n",
    "print(combined_df.dtypes, '\\n')\n",
    "# Explore null values\n",
    "print('\\033[1m'+'Null values in each column of the combined dataframe:'+'\\033[0m')\n",
    "print(combined_df.isnull().sum())"
   ]
  },
  {
   "cell_type": "markdown",
   "id": "6c2e8e5c",
   "metadata": {},
   "source": [
    "> #### Two potential problems become immediately apparent from our combined dataset:\n",
    "> - **Wrong DataTypes:** Some columns with numeric data (`year`, `income_pp`, and `pop_density`) are improperly stored as string/object types.\n",
    "> - **Null Values:** The `hdi_score` and `lib_score` columns contain null values.\n",
    "\n",
    "We have to deal with these occurrences before we can proceed into proper analysis.\n",
    "\n",
    "## Converting Data Types\n",
    "---\n",
    "### Year Column"
   ]
  },
  {
   "cell_type": "code",
   "execution_count": 22,
   "id": "22f99a57",
   "metadata": {},
   "outputs": [],
   "source": [
    "# Fix the year column\n",
    "combined_df['year'] = pd.to_datetime(combined_df['year']).dt.year"
   ]
  },
  {
   "cell_type": "markdown",
   "id": "93ed3cdc",
   "metadata": {},
   "source": [
    "### Income Per Person Column"
   ]
  },
  {
   "cell_type": "code",
   "execution_count": 23,
   "id": "4f706f99",
   "metadata": {},
   "outputs": [
    {
     "data": {
      "text/plain": [
       "11.9k    22\n",
       "11.3k    20\n",
       "10.5k    20\n",
       "14.4k    19\n",
       "11k      19\n",
       "Name: income_pp, dtype: int64"
      ]
     },
     "execution_count": 23,
     "metadata": {},
     "output_type": "execute_result"
    }
   ],
   "source": [
    "# Examine the values in the income_pp column\n",
    "combined_df['income_pp'].value_counts().head()"
   ]
  },
  {
   "cell_type": "markdown",
   "id": "99e1b236",
   "metadata": {},
   "source": [
    "It appears values like `11.9k`, `11.3k` among others are what caused this column to be stored as a string. These values represent data measured in _thousands_ according to the documentation on the [Gapminder page](https://www.gapminder.org/data/). We will correct this formatting below:"
   ]
  },
  {
   "cell_type": "code",
   "execution_count": 24,
   "id": "d18d4272",
   "metadata": {},
   "outputs": [
    {
     "data": {
      "text/plain": [
       "11900.0    22\n",
       "11300.0    20\n",
       "10500.0    20\n",
       "14400.0    19\n",
       "11000.0    19\n",
       "Name: income_pp, dtype: int64"
      ]
     },
     "execution_count": 24,
     "metadata": {},
     "output_type": "execute_result"
    }
   ],
   "source": [
    "# Identify where K is present in an entry and multiply by 1000\n",
    "combined_df['income_pp'] = combined_df['income_pp'].apply(lambda x: float(x[:-1])*1000 if 'k' in x else float(x))\n",
    "# Preview results\n",
    "combined_df['income_pp'].value_counts().head()"
   ]
  },
  {
   "cell_type": "markdown",
   "id": "008c2bcd",
   "metadata": {},
   "source": [
    "### Population Density Column"
   ]
  },
  {
   "cell_type": "code",
   "execution_count": 25,
   "id": "0e44ebd7",
   "metadata": {},
   "outputs": [
    {
     "name": "stdout",
     "output_type": "stream",
     "text": [
      "\u001b[1mPreveiwing the frequency of few values in the population density column:\u001b[0m\n",
      "112    44\n",
      "106    31\n",
      "113    30\n",
      "102    29\n",
      "114    28\n",
      "Name: pop_density, dtype: int64 \n",
      "\n",
      "\u001b[1mPreveiwing the frequency of more values in the population density column:\u001b[0m\n",
      "8.82    1\n",
      "53.2    1\n",
      "8.52    1\n",
      "8.07    1\n",
      "37.3    1\n",
      "Name: pop_density, dtype: int64 \n",
      "\n",
      "\u001b[1mConducting descriptive statistics...\u001b[0m\n",
      "count     4553\n",
      "unique    1696\n",
      "top        112\n",
      "freq        44\n",
      "Name: pop_density, dtype: object\n"
     ]
    }
   ],
   "source": [
    "# Examine the values in the lib_score column \n",
    "print('\\033[1m'+'Preveiwing the frequency of few values in the population density column:'+'\\033[0m')\n",
    "print(combined_df['pop_density'].value_counts().head(), '\\n')\n",
    "print('\\033[1m'+'Preveiwing the frequency of more values in the population density column:'+'\\033[0m')\n",
    "print(combined_df['pop_density'].value_counts().tail(), '\\n')\n",
    "print('\\033[1m'+'Conducting descriptive statistics...'+'\\033[0m')\n",
    "print(combined_df['pop_density'].describe())"
   ]
  },
  {
   "cell_type": "markdown",
   "id": "83bd05f4",
   "metadata": {},
   "source": [
    "The values in this column dont seem to have any unusual formating. We can go ahead to convert them to the `float` data type:"
   ]
  },
  {
   "cell_type": "code",
   "execution_count": 26,
   "id": "2c767e43",
   "metadata": {},
   "outputs": [],
   "source": [
    "combined_df['pop_density'] = combined_df['pop_density'].astype(float)"
   ]
  },
  {
   "cell_type": "code",
   "execution_count": 27,
   "id": "dfb5a426",
   "metadata": {},
   "outputs": [
    {
     "name": "stdout",
     "output_type": "stream",
     "text": [
      "\u001b[1mRechecking the datatypes in our combined dataframe...\u001b[0m\n"
     ]
    },
    {
     "data": {
      "text/plain": [
       "country         object\n",
       "continent       object\n",
       "region          object\n",
       "year             int64\n",
       "hdi_score      float64\n",
       "empl_rate      float64\n",
       "income_pp      float64\n",
       "life_exp       float64\n",
       "lib_score      float64\n",
       "pop_density    float64\n",
       "fert_rate      float64\n",
       "dtype: object"
      ]
     },
     "execution_count": 27,
     "metadata": {},
     "output_type": "execute_result"
    }
   ],
   "source": [
    "print('\\033[1m'+'Rechecking the datatypes in our combined dataframe...'+'\\033[0m')\n",
    "combined_df.dtypes"
   ]
  },
  {
   "cell_type": "markdown",
   "id": "ab2b152a",
   "metadata": {},
   "source": [
    "## Dealing With Missing Values\n",
    "---\n",
    "### Setting a Criteria to Fill Null Values"
   ]
  },
  {
   "cell_type": "code",
   "execution_count": 28,
   "id": "a59e4b04",
   "metadata": {},
   "outputs": [
    {
     "name": "stdout",
     "output_type": "stream",
     "text": [
      "\u001b[1mNull values in each column of the combined dataframe:\u001b[0m\n",
      "country          0\n",
      "continent        0\n",
      "region           0\n",
      "year             0\n",
      "hdi_score      224\n",
      "empl_rate        0\n",
      "income_pp        0\n",
      "life_exp         0\n",
      "lib_score       36\n",
      "pop_density      0\n",
      "fert_rate        0\n",
      "dtype: int64\n"
     ]
    }
   ],
   "source": [
    "print('\\033[1m'+'Null values in each column of the combined dataframe:'+'\\033[0m')\n",
    "print(combined_df.isnull().sum())"
   ]
  },
  {
   "cell_type": "markdown",
   "id": "5b9218f1",
   "metadata": {},
   "source": [
    "Before selecting an appropriate method of fixing the null values in the `hdi_score` and `empl_rate` columns. It would be great to have an overview of how the values in these columns are generally distributed:"
   ]
  },
  {
   "cell_type": "code",
   "execution_count": 29,
   "id": "53a97139",
   "metadata": {
    "scrolled": false
   },
   "outputs": [
    {
     "name": "stdout",
     "output_type": "stream",
     "text": [
      "\u001b[1mDistribution of HDI Score and Employment rate across all Countries\u001b[0m\n"
     ]
    },
    {
     "data": {
      "image/png": "[encoded data removed]",
      "text/plain": [
       "<Figure size 504x252 with 2 Axes>"
      ]
     },
     "metadata": {
      "image/png": {
       "height": 245,
       "width": 498
      },
      "needs_background": "light"
     },
     "output_type": "display_data"
    }
   ],
   "source": [
    "# Preview the distribution of values in hdi_score and empl_rate columns\n",
    "print('\\033[1m'+'Distribution of HDI Score and Employment rate across all Countries'+'\\033[0m')\n",
    "combined_df[['hdi_score', 'empl_rate']].hist(figsize=(7, 3.5))\n",
    "plt.ylabel('count')\n",
    "plt.tight_layout(pad=1);"
   ]
  },
  {
   "cell_type": "markdown",
   "id": "83bd4566",
   "metadata": {},
   "source": [
    "> Generally, `HDI score` distribution appears to be _left skewed_ with many countries having HDI scores around the range of 0.6 to 0.8. `Employment rates`, however, show some degree of _right skew_, and the mean employment rate is around 60%.\n",
    "\n",
    "We will avoid jumping into conclusions immediately and try to see how these distributions vary from continent to continent. This may provide us with better insight on how to account for the null values in our dataset."
   ]
  },
  {
   "cell_type": "code",
   "execution_count": 30,
   "id": "e5f4cff9",
   "metadata": {
    "scrolled": true
   },
   "outputs": [
    {
     "data": {
      "text/html": [
       "<div>\n",
       "<style scoped>\n",
       "    .dataframe tbody tr th:only-of-type {\n",
       "        vertical-align: middle;\n",
       "    }\n",
       "\n",
       "    .dataframe tbody tr th {\n",
       "        vertical-align: top;\n",
       "    }\n",
       "\n",
       "    .dataframe thead th {\n",
       "        text-align: right;\n",
       "    }\n",
       "</style>\n",
       "<table border=\"1\" class=\"dataframe\">\n",
       "  <thead>\n",
       "    <tr style=\"text-align: right;\">\n",
       "      <th></th>\n",
       "      <th>hdi_score</th>\n",
       "      <th>empl_rate</th>\n",
       "    </tr>\n",
       "    <tr>\n",
       "      <th>continent</th>\n",
       "      <th></th>\n",
       "      <th></th>\n",
       "    </tr>\n",
       "  </thead>\n",
       "  <tbody>\n",
       "    <tr>\n",
       "      <th>africa</th>\n",
       "      <td>0.49</td>\n",
       "      <td>61.14</td>\n",
       "    </tr>\n",
       "    <tr>\n",
       "      <th>americas</th>\n",
       "      <td>0.71</td>\n",
       "      <td>59.40</td>\n",
       "    </tr>\n",
       "    <tr>\n",
       "      <th>asia</th>\n",
       "      <td>0.67</td>\n",
       "      <td>59.12</td>\n",
       "    </tr>\n",
       "    <tr>\n",
       "      <th>europe</th>\n",
       "      <td>0.81</td>\n",
       "      <td>52.97</td>\n",
       "    </tr>\n",
       "  </tbody>\n",
       "</table>\n",
       "</div>"
      ],
      "text/plain": [
       "           hdi_score  empl_rate\n",
       "continent                      \n",
       "africa          0.49      61.14\n",
       "americas        0.71      59.40\n",
       "asia            0.67      59.12\n",
       "europe          0.81      52.97"
      ]
     },
     "execution_count": 30,
     "metadata": {},
     "output_type": "execute_result"
    }
   ],
   "source": [
    "combined_df.groupby('continent')[['hdi_score', 'empl_rate']].mean().round(2)"
   ]
  },
  {
   "cell_type": "markdown",
   "id": "866c4849",
   "metadata": {},
   "source": [
    "> The distribution of these measure seems to vary from continent to continent. _For instance, while HDI Scores are much lower in Africa (0.49), Africa has a higher employment rate (61%) than the rest of the world_.\n",
    "\n",
    "**Rather than fill our null values based on the mean recorded for all the countries, we will fill them based on the mean estimated for the particular continent. This will to some extent , help us account for the variations from one continent to another**.\n",
    "\n",
    "### Removing Countries with many missing HDI scores"
   ]
  },
  {
   "cell_type": "code",
   "execution_count": 31,
   "id": "05c1cac2",
   "metadata": {
    "scrolled": false
   },
   "outputs": [
    {
     "name": "stdout",
     "output_type": "stream",
     "text": [
      "Each country should have records for 29 years from 1991 to 2019.\n",
      "Printing countries with missing HDI scores, including the % of records missing...\n"
     ]
    },
    {
     "data": {
      "text/plain": [
       "country\n",
       "Angola                    0.28\n",
       "Azerbaijan                0.14\n",
       "Belarus                   0.14\n",
       "Bosnia and Herzegovina    0.31\n",
       "Burkina Faso              0.31\n",
       "Cape Verde                0.31\n",
       "Chad                      0.31\n",
       "Equatorial Guinea         0.31\n",
       "Eritrea                   0.48\n",
       "Ethiopia                  0.31\n",
       "Georgia                   0.31\n",
       "Guinea-Bissau             0.48\n",
       "Lebanon                   0.48\n",
       "Liberia                   0.28\n",
       "Madagascar                0.31\n",
       "Nigeria                   0.41\n",
       "North Macedonia           0.31\n",
       "Oman                      0.31\n",
       "South Sudan               0.66\n",
       "Timor-Leste               0.31\n",
       "Turkmenistan              0.66\n",
       "Uzbekistan                0.31\n",
       "Name: year, dtype: float64"
      ]
     },
     "execution_count": 31,
     "metadata": {},
     "output_type": "execute_result"
    }
   ],
   "source": [
    "print('Each country should have records for {} years from 1991 to 2019.'.format(len(combined_df['year'].unique())))\n",
    "print('Printing countries with missing HDI scores, including the % of records missing...')\n",
    "# Collate the list of countries with missing HDI scores\n",
    "missing_hdi = combined_df[combined_df['hdi_score'].isnull()].groupby('country')['year'].count()\n",
    "round(missing_hdi/29, 2)"
   ]
  },
  {
   "cell_type": "markdown",
   "id": "40c57e5e",
   "metadata": {},
   "source": [
    "We will remove countries with over **50%** of their HDI records missing:"
   ]
  },
  {
   "cell_type": "code",
   "execution_count": 32,
   "id": "cb925052",
   "metadata": {},
   "outputs": [
    {
     "data": {
      "text/plain": [
       "Index(['South Sudan', 'Turkmenistan'], dtype='object', name='country')"
      ]
     },
     "execution_count": 32,
     "metadata": {},
     "output_type": "execute_result"
    }
   ],
   "source": [
    "# Select countries with over 50% records for HDI missing\n",
    "over_50_missing = missing_hdi[missing_hdi > (0.5*29)].index\n",
    "over_50_missing"
   ]
  },
  {
   "cell_type": "code",
   "execution_count": 33,
   "id": "22322b32",
   "metadata": {
    "scrolled": true
   },
   "outputs": [
    {
     "data": {
      "text/plain": [
       "country          0\n",
       "continent        0\n",
       "region           0\n",
       "year             0\n",
       "hdi_score      186\n",
       "empl_rate        0\n",
       "income_pp        0\n",
       "life_exp         0\n",
       "lib_score       16\n",
       "pop_density      0\n",
       "fert_rate        0\n",
       "dtype: int64"
      ]
     },
     "execution_count": 33,
     "metadata": {},
     "output_type": "execute_result"
    }
   ],
   "source": [
    "# Eliminate the countries from the combined_df dataframe\n",
    "combined_df = combined_df.query(\"country not in @over_50_missing\")\n",
    "combined_df.isnull().sum()"
   ]
  },
  {
   "cell_type": "markdown",
   "id": "5f91c176",
   "metadata": {},
   "source": [
    "**Quick Observations**\n",
    "- The number of null records in the `hdi_score` column have reduced from 224 to 186.\n",
    "- The number of null records in `lib_score` have reduced from 36 to 16.\n",
    "\n",
    "We can now proceed to fill the remaining null values in each country with the mean value from their respective continents:\n",
    "### Filling Null Values"
   ]
  },
  {
   "cell_type": "code",
   "execution_count": 34,
   "id": "01ef0ae4",
   "metadata": {},
   "outputs": [
    {
     "name": "stdout",
     "output_type": "stream",
     "text": [
      "Confirming the continents in each slice...\n",
      "slice_1 : asia\n",
      "slice_2 : europe\n",
      "slice_3 : africa\n",
      "slice_4 : americas\n"
     ]
    }
   ],
   "source": [
    "# Create slices of the the combined dataframe based on continent\n",
    "continent_slices = [combined_df.query(\"continent == @c\").copy() for c in combined_df['continent'].unique()]\n",
    "# Confirm slicing process\n",
    "print('Confirming the continents in each slice...')\n",
    "for num, item in enumerate(continent_slices):\n",
    "    print('slice_'+ str(num+1), ': '+item['continent'].unique()[0])"
   ]
  },
  {
   "cell_type": "code",
   "execution_count": 35,
   "id": "5aa1bedf",
   "metadata": {},
   "outputs": [],
   "source": [
    "# Filling null values in each slice\n",
    "for item in continent_slices:\n",
    "    hdi_mean = item['hdi_score'].mean()\n",
    "    lib_mean = item['lib_score'].mean()\n",
    "    item['hdi_score'].fillna(hdi_mean, inplace=True)\n",
    "    item['lib_score'].fillna(lib_mean, inplace=True)"
   ]
  },
  {
   "cell_type": "code",
   "execution_count": 36,
   "id": "aa9e3bc3",
   "metadata": {},
   "outputs": [
    {
     "name": "stdout",
     "output_type": "stream",
     "text": [
      "Printing: count of null values in each column of our rebuilt dataframe...\n"
     ]
    },
    {
     "data": {
      "text/plain": [
       "country        0\n",
       "continent      0\n",
       "region         0\n",
       "year           0\n",
       "hdi_score      0\n",
       "empl_rate      0\n",
       "income_pp      0\n",
       "life_exp       0\n",
       "lib_score      0\n",
       "pop_density    0\n",
       "fert_rate      0\n",
       "dtype: int64"
      ]
     },
     "execution_count": 36,
     "metadata": {},
     "output_type": "execute_result"
    }
   ],
   "source": [
    "# Reconstructing a fully cleaned dataframe\n",
    "gapminder = pd.concat([item for item in continent_slices], ignore_index=True)\n",
    "# Sorting the dataframe by country and year\n",
    "gapminder.sort_values(by=['country', 'year'], inplace=True)\n",
    "# Reorganizing the dataframe index\n",
    "gapminder = gapminder.reset_index(drop=True)\n",
    "# Preview results\n",
    "print('Printing: count of null values in each column of our rebuilt dataframe...')\n",
    "gapminder.isnull().sum()"
   ]
  },
  {
   "cell_type": "markdown",
   "id": "f9eec10f",
   "metadata": {},
   "source": [
    "## Formating the String Columns\n",
    "---"
   ]
  },
  {
   "cell_type": "code",
   "execution_count": 37,
   "id": "b7afbd02",
   "metadata": {},
   "outputs": [
    {
     "data": {
      "text/html": [
       "<div>\n",
       "<style scoped>\n",
       "    .dataframe tbody tr th:only-of-type {\n",
       "        vertical-align: middle;\n",
       "    }\n",
       "\n",
       "    .dataframe tbody tr th {\n",
       "        vertical-align: top;\n",
       "    }\n",
       "\n",
       "    .dataframe thead th {\n",
       "        text-align: right;\n",
       "    }\n",
       "</style>\n",
       "<table border=\"1\" class=\"dataframe\">\n",
       "  <thead>\n",
       "    <tr style=\"text-align: right;\">\n",
       "      <th></th>\n",
       "      <th>country</th>\n",
       "      <th>continent</th>\n",
       "      <th>region</th>\n",
       "      <th>year</th>\n",
       "      <th>hdi_score</th>\n",
       "      <th>empl_rate</th>\n",
       "      <th>income_pp</th>\n",
       "      <th>life_exp</th>\n",
       "      <th>lib_score</th>\n",
       "      <th>pop_density</th>\n",
       "      <th>fert_rate</th>\n",
       "    </tr>\n",
       "  </thead>\n",
       "  <tbody>\n",
       "    <tr>\n",
       "      <th>0</th>\n",
       "      <td>Afghanistan</td>\n",
       "      <td>asia</td>\n",
       "      <td>south_asia</td>\n",
       "      <td>1991</td>\n",
       "      <td>0.307</td>\n",
       "      <td>42.5</td>\n",
       "      <td>1010.0</td>\n",
       "      <td>53.8</td>\n",
       "      <td>19.1</td>\n",
       "      <td>20.4</td>\n",
       "      <td>7.48</td>\n",
       "    </tr>\n",
       "    <tr>\n",
       "      <th>1</th>\n",
       "      <td>Afghanistan</td>\n",
       "      <td>asia</td>\n",
       "      <td>south_asia</td>\n",
       "      <td>1992</td>\n",
       "      <td>0.316</td>\n",
       "      <td>42.5</td>\n",
       "      <td>971.0</td>\n",
       "      <td>54.2</td>\n",
       "      <td>21.6</td>\n",
       "      <td>22.2</td>\n",
       "      <td>7.50</td>\n",
       "    </tr>\n",
       "    <tr>\n",
       "      <th>2</th>\n",
       "      <td>Afghanistan</td>\n",
       "      <td>asia</td>\n",
       "      <td>south_asia</td>\n",
       "      <td>1993</td>\n",
       "      <td>0.312</td>\n",
       "      <td>42.5</td>\n",
       "      <td>665.0</td>\n",
       "      <td>54.4</td>\n",
       "      <td>23.0</td>\n",
       "      <td>24.2</td>\n",
       "      <td>7.54</td>\n",
       "    </tr>\n",
       "    <tr>\n",
       "      <th>3</th>\n",
       "      <td>Afghanistan</td>\n",
       "      <td>asia</td>\n",
       "      <td>south_asia</td>\n",
       "      <td>1994</td>\n",
       "      <td>0.307</td>\n",
       "      <td>42.5</td>\n",
       "      <td>493.0</td>\n",
       "      <td>53.9</td>\n",
       "      <td>21.4</td>\n",
       "      <td>26.2</td>\n",
       "      <td>7.57</td>\n",
       "    </tr>\n",
       "    <tr>\n",
       "      <th>4</th>\n",
       "      <td>Afghanistan</td>\n",
       "      <td>asia</td>\n",
       "      <td>south_asia</td>\n",
       "      <td>1995</td>\n",
       "      <td>0.331</td>\n",
       "      <td>42.4</td>\n",
       "      <td>728.0</td>\n",
       "      <td>54.3</td>\n",
       "      <td>20.8</td>\n",
       "      <td>27.7</td>\n",
       "      <td>7.61</td>\n",
       "    </tr>\n",
       "  </tbody>\n",
       "</table>\n",
       "</div>"
      ],
      "text/plain": [
       "       country continent      region  year  hdi_score  empl_rate  income_pp  \\\n",
       "0  Afghanistan      asia  south_asia  1991      0.307       42.5     1010.0   \n",
       "1  Afghanistan      asia  south_asia  1992      0.316       42.5      971.0   \n",
       "2  Afghanistan      asia  south_asia  1993      0.312       42.5      665.0   \n",
       "3  Afghanistan      asia  south_asia  1994      0.307       42.5      493.0   \n",
       "4  Afghanistan      asia  south_asia  1995      0.331       42.4      728.0   \n",
       "\n",
       "   life_exp  lib_score  pop_density  fert_rate  \n",
       "0      53.8       19.1         20.4       7.48  \n",
       "1      54.2       21.6         22.2       7.50  \n",
       "2      54.4       23.0         24.2       7.54  \n",
       "3      53.9       21.4         26.2       7.57  \n",
       "4      54.3       20.8         27.7       7.61  "
      ]
     },
     "execution_count": 37,
     "metadata": {},
     "output_type": "execute_result"
    }
   ],
   "source": [
    "gapminder.head()"
   ]
  },
  {
   "cell_type": "markdown",
   "id": "cc75ce80",
   "metadata": {},
   "source": [
    "In the final step of data cleaning, we will format the `continent` column to **Title Case**. The `region` column will also be properly capitalized and the underscores will be removed."
   ]
  },
  {
   "cell_type": "code",
   "execution_count": 38,
   "id": "9b0917a0",
   "metadata": {},
   "outputs": [],
   "source": [
    "# Reformat the continent column\n",
    "gapminder['continent'] = gapminder['continent'].str.title()"
   ]
  },
  {
   "cell_type": "code",
   "execution_count": 39,
   "id": "6473e966",
   "metadata": {},
   "outputs": [],
   "source": [
    "# Create a dictionary with the proper formating of all the region names\n",
    "region_dictionary = {\n",
    "    'south_asia' : 'South Asia',\n",
    "    'europe_central_asia': 'Europe & Central Asia',\n",
    "    'middle_east_north_africa' : 'Middle East & North Africa',\n",
    "    'america': 'America',\n",
    "    'east_asia_pacific': 'East Asia & Pacific',\n",
    "    'sub_saharan_africa': 'Sub-Saharan Africa'\n",
    "}\n",
    "\n",
    "# Reformat the region column\n",
    "gapminder['region'] = gapminder['region'].map(region_dictionary)"
   ]
  },
  {
   "cell_type": "code",
   "execution_count": 40,
   "id": "fbc292b0",
   "metadata": {
    "scrolled": false
   },
   "outputs": [
    {
     "name": "stdout",
     "output_type": "stream",
     "text": [
      "The Final gapminder dataframe has 4,495 rows and 11 columns.\n",
      "Previewing dataframe...\n"
     ]
    },
    {
     "data": {
      "text/html": [
       "<div>\n",
       "<style scoped>\n",
       "    .dataframe tbody tr th:only-of-type {\n",
       "        vertical-align: middle;\n",
       "    }\n",
       "\n",
       "    .dataframe tbody tr th {\n",
       "        vertical-align: top;\n",
       "    }\n",
       "\n",
       "    .dataframe thead th {\n",
       "        text-align: right;\n",
       "    }\n",
       "</style>\n",
       "<table border=\"1\" class=\"dataframe\">\n",
       "  <thead>\n",
       "    <tr style=\"text-align: right;\">\n",
       "      <th></th>\n",
       "      <th>country</th>\n",
       "      <th>continent</th>\n",
       "      <th>region</th>\n",
       "      <th>year</th>\n",
       "      <th>hdi_score</th>\n",
       "      <th>empl_rate</th>\n",
       "      <th>income_pp</th>\n",
       "      <th>life_exp</th>\n",
       "      <th>lib_score</th>\n",
       "      <th>pop_density</th>\n",
       "      <th>fert_rate</th>\n",
       "    </tr>\n",
       "  </thead>\n",
       "  <tbody>\n",
       "    <tr>\n",
       "      <th>0</th>\n",
       "      <td>Afghanistan</td>\n",
       "      <td>Asia</td>\n",
       "      <td>South Asia</td>\n",
       "      <td>1991</td>\n",
       "      <td>0.307</td>\n",
       "      <td>42.5</td>\n",
       "      <td>1010.0</td>\n",
       "      <td>53.8</td>\n",
       "      <td>19.1</td>\n",
       "      <td>20.4</td>\n",
       "      <td>7.48</td>\n",
       "    </tr>\n",
       "    <tr>\n",
       "      <th>1</th>\n",
       "      <td>Afghanistan</td>\n",
       "      <td>Asia</td>\n",
       "      <td>South Asia</td>\n",
       "      <td>1992</td>\n",
       "      <td>0.316</td>\n",
       "      <td>42.5</td>\n",
       "      <td>971.0</td>\n",
       "      <td>54.2</td>\n",
       "      <td>21.6</td>\n",
       "      <td>22.2</td>\n",
       "      <td>7.50</td>\n",
       "    </tr>\n",
       "    <tr>\n",
       "      <th>2</th>\n",
       "      <td>Afghanistan</td>\n",
       "      <td>Asia</td>\n",
       "      <td>South Asia</td>\n",
       "      <td>1993</td>\n",
       "      <td>0.312</td>\n",
       "      <td>42.5</td>\n",
       "      <td>665.0</td>\n",
       "      <td>54.4</td>\n",
       "      <td>23.0</td>\n",
       "      <td>24.2</td>\n",
       "      <td>7.54</td>\n",
       "    </tr>\n",
       "    <tr>\n",
       "      <th>3</th>\n",
       "      <td>Afghanistan</td>\n",
       "      <td>Asia</td>\n",
       "      <td>South Asia</td>\n",
       "      <td>1994</td>\n",
       "      <td>0.307</td>\n",
       "      <td>42.5</td>\n",
       "      <td>493.0</td>\n",
       "      <td>53.9</td>\n",
       "      <td>21.4</td>\n",
       "      <td>26.2</td>\n",
       "      <td>7.57</td>\n",
       "    </tr>\n",
       "    <tr>\n",
       "      <th>4</th>\n",
       "      <td>Afghanistan</td>\n",
       "      <td>Asia</td>\n",
       "      <td>South Asia</td>\n",
       "      <td>1995</td>\n",
       "      <td>0.331</td>\n",
       "      <td>42.4</td>\n",
       "      <td>728.0</td>\n",
       "      <td>54.3</td>\n",
       "      <td>20.8</td>\n",
       "      <td>27.7</td>\n",
       "      <td>7.61</td>\n",
       "    </tr>\n",
       "  </tbody>\n",
       "</table>\n",
       "</div>"
      ],
      "text/plain": [
       "       country continent      region  year  hdi_score  empl_rate  income_pp  \\\n",
       "0  Afghanistan      Asia  South Asia  1991      0.307       42.5     1010.0   \n",
       "1  Afghanistan      Asia  South Asia  1992      0.316       42.5      971.0   \n",
       "2  Afghanistan      Asia  South Asia  1993      0.312       42.5      665.0   \n",
       "3  Afghanistan      Asia  South Asia  1994      0.307       42.5      493.0   \n",
       "4  Afghanistan      Asia  South Asia  1995      0.331       42.4      728.0   \n",
       "\n",
       "   life_exp  lib_score  pop_density  fert_rate  \n",
       "0      53.8       19.1         20.4       7.48  \n",
       "1      54.2       21.6         22.2       7.50  \n",
       "2      54.4       23.0         24.2       7.54  \n",
       "3      53.9       21.4         26.2       7.57  \n",
       "4      54.3       20.8         27.7       7.61  "
      ]
     },
     "execution_count": 40,
     "metadata": {},
     "output_type": "execute_result"
    }
   ],
   "source": [
    "print('The Final gapminder dataframe has {:,} rows and {} columns.'.format(gapminder.shape[0], gapminder.shape[1]))\n",
    "print('Previewing dataframe...')\n",
    "gapminder.head()"
   ]
  },
  {
   "cell_type": "markdown",
   "id": "3bfc75f2",
   "metadata": {},
   "source": [
    "## Data Analysis\n",
    "---\n",
    "### 1. How have our selected metrics evolved over the years from 1991 - 2019?"
   ]
  },
  {
   "cell_type": "code",
   "execution_count": 41,
   "id": "05c2ab1d",
   "metadata": {},
   "outputs": [
    {
     "name": "stdout",
     "output_type": "stream",
     "text": [
      "Previewing the proper metric names ...\n"
     ]
    },
    {
     "data": {
      "text/plain": [
       "hdi_score                HDI Score\n",
       "empl_rate          Employment Rate\n",
       "income_pp        Income Per Person\n",
       "life_exp           Life Expectancy\n",
       "lib_score      Civil Liberty Score\n",
       "pop_density     Population Density\n",
       "fert_rate           Fertility Rate\n",
       "dtype: object"
      ]
     },
     "execution_count": 41,
     "metadata": {},
     "output_type": "execute_result"
    }
   ],
   "source": [
    "# Create a Pandas Series housing each proper metric name\n",
    "metric_names = pd.Series(index= list(gapminder.columns[4:]),\n",
    "                        data = ['HDI Score', 'Employment Rate', 'Income Per Person', \n",
    "                                'Life Expectancy', 'Civil Liberty Score',\n",
    "                               'Population Density', 'Fertility Rate']\n",
    "                        )\n",
    "print('Previewing the proper metric names ...')\n",
    "metric_names"
   ]
  },
  {
   "cell_type": "code",
   "execution_count": 42,
   "id": "644f3a9b",
   "metadata": {
    "scrolled": false
   },
   "outputs": [
    {
     "data": {
      "image/png": "[encoded data removed]",
      "text/plain": [
       "<Figure size 720x108 with 1 Axes>"
      ]
     },
     "metadata": {
      "image/png": {
       "height": 141,
       "width": 621
      },
      "needs_background": "dark"
     },
     "output_type": "display_data"
    },
    {
     "data": {
      "image/png": "[encoded data removed]",
      "text/plain": [
       "<Figure size 720x108 with 1 Axes>"
      ]
     },
     "metadata": {
      "image/png": {
       "height": 141,
       "width": 621
      },
      "needs_background": "dark"
     },
     "output_type": "display_data"
    },
    {
     "data": {
      "image/png": "[encoded data removed]",
      "text/plain": [
       "<Figure size 720x108 with 1 Axes>"
      ]
     },
     "metadata": {
      "image/png": {
       "height": 141,
       "width": 630
      },
      "needs_background": "dark"
     },
     "output_type": "display_data"
    },
    {
     "data": {
      "image/png": "[encoded data removed]",
      "text/plain": [
       "<Figure size 720x108 with 1 Axes>"
      ]
     },
     "metadata": {
      "image/png": {
       "height": 141,
       "width": 611
      },
      "needs_background": "dark"
     },
     "output_type": "display_data"
    },
    {
     "data": {
      "image/png": "[encoded data removed]",
      "text/plain": [
       "<Figure size 720x108 with 1 Axes>"
      ]
     },
     "metadata": {
      "image/png": {
       "height": 141,
       "width": 611
      },
      "needs_background": "dark"
     },
     "output_type": "display_data"
    },
    {
     "data": {
      "image/png": "[encoded data removed]",
      "text/plain": [
       "<Figure size 720x108 with 1 Axes>"
      ]
     },
     "metadata": {
      "image/png": {
       "height": 141,
       "width": 618
      },
      "needs_background": "dark"
     },
     "output_type": "display_data"
    },
    {
     "data": {
      "image/png": "[encoded data removed]",
      "text/plain": [
       "<Figure size 720x108 with 1 Axes>"
      ]
     },
     "metadata": {
      "image/png": {
       "height": 141,
       "width": 614
      },
      "needs_background": "dark"
     },
     "output_type": "display_data"
    }
   ],
   "source": [
    "means = gapminder.groupby('year').mean()\n",
    "for c in means.columns:\n",
    "    means[c].plot(figsize=(10,1.5), linewidth=3, xlabel='Year', ylabel=c)\n",
    "    plt.title('Overall trends in {} (1991 to 2019)'.format(metric_names[c]))\n",
    "    plt.xticks(color='grey')\n",
    "    plt.yticks(color='grey')\n",
    "    plt.grid(alpha=0.6)\n",
    "    plt.show();"
   ]
  },
  {
   "cell_type": "markdown",
   "id": "5de1cab2",
   "metadata": {},
   "source": [
    "> **Increasing trends**: HDI score, income per person, life expectancy and population density.<br>\n",
    "**Decreasing trends**: Fertility rate.<br>\n",
    "**Fluctuating trends**: Employment rate, civil liberty score.<br><br>\n",
    "> - It is worthy to note that the fluctuation in employment rates from the 1900's to 2010 also corresponds to periods of notable financial crisis such as the _Russian Economic Crisis 1992-97; East Asian Economic Crisis 1997-2001; the Latin American Debt Crisis in Mexico, Brazil and Argentina 1994-2002, and the Global Economic Recession 2007-2009_.<br>\n",
    "> - The Global Economic recession may have also contributed to the slight drop in income per person between 2007 and 2010.<br>\n",
    "> - It appears that global democracy, measured by the IKEA civil liberty score, has been on a decline since 2012.\n",
    "> - Women are having fewer children. As evidenced by the steady reduction in fertility rates since the 1990's. This may be attributable to the fact that over the years, women have gained increased access to education and job opportunities, coupled with increasing access to contraceptive measures for both men and women."
   ]
  },
  {
   "cell_type": "code",
   "execution_count": null,
   "id": "fa9c68b0",
   "metadata": {},
   "outputs": [],
   "source": []
  }
 ],
 "metadata": {
  "kernelspec": {
   "display_name": "Python 3 (ipykernel)",
   "language": "python",
   "name": "python3"
  },
  "language_info": {
   "codemirror_mode": {
    "name": "ipython",
    "version": 3
   },
   "file_extension": ".py",
   "mimetype": "text/x-python",
   "name": "python",
   "nbconvert_exporter": "python",
   "pygments_lexer": "ipython3",
   "version": "3.9.7"
  }
 },
 "nbformat": 4,
 "nbformat_minor": 5
}
