{
 "cells": [
  {
   "cell_type": "markdown",
   "id": "7a41ca62",
   "metadata": {},
   "source": [
    "## Dataset Documentation\n",
    "#### Relevant csv files selected from the [Gapminder website](https://www.gapminder.org/data/):\n",
    "1. **Human Development Index (HDI):**<br>\n",
    "_An index used to rank countries by level of \"human development\". It is calculated from three dimensions: health level, educational level and living standard._<br>\n",
    "File: `hdi_human_development_index.csv` <br><br>\n",
    "2. **Aged 15+ Employment Rate (%):**<br>_Percentage of total population, age group 15+, that has been employed during the given year_.<br>\n",
    "File: `aged_15plus_employment_rate_percent.csv`<br><br>\n",
    "3. **Income per person (GDP/capita, PPP inflation-adjusted):** _Gross domestic product per person adjusted for differences in purchasing power (in international dollars, fixed 2011 prices, PPP based on 2011 ICP)._<br>\n",
    "File: `income_per_person_gdppercapita_ppp_inflation_adjusted.csv`<br><br>\n",
    "4. **Life Expectancy (Years):**<br>_The average number of years a newborn child would live if current mortality patterns were to stay the same_.<br>\n",
    "File: `life_expectancy_years.csv`<br><br>\n",
    "5. **Babies per woman (total fertility):**<br>_The number of children that would be born to each woman with prevailing age-specific fertility rates_.<br>\n",
    "File: `children_per_woman_total_fertility.csv`<br><br>\n",
    "6. **Population Density (per square km):**<br>_Average number of people on each square km of the land in the given country._<br>\n",
    "File: `population_density_per_square_km.csv`<br><br>\n",
    "7. **Civil liberties Index (IDEA):**<br>_A measure denoting the extent to which civil rights and liberties are respected (on a scale of 1 - 100). The factors considered in its estimation includes freedom of expression, freedom of association and assembly, freedom of religion, freedom of movement, and personal integrity and security._<br>\n",
    "File: `cliberties_idea.csv`<br><br>\n",
    "\n",
    "#### Relevant csv files selected from the [Gapminder github page](https://github.com/open-numbers/ddf--gapminder--systema_globalis/blob/master/ddf--entities--geo--country.csv):\n",
    "8. **`ddf--entities--geo--country.csv`:** <br>_Contains information about different countries, the continents they belong to and their respective world bank regions_."
   ]
  },
  {
   "cell_type": "code",
   "execution_count": 1,
   "id": "fdf994dd",
   "metadata": {},
   "outputs": [],
   "source": [
    "# Importing libraries\n",
    "import numpy as np\n",
    "import pandas as pd\n",
    "import matplotlib.pyplot as plt\n",
    "%matplotlib inline\n",
    "%config InlineBackend.figure_format = 'retina'"
   ]
  },
  {
   "cell_type": "code",
   "execution_count": 2,
   "id": "b3fc6e3a",
   "metadata": {},
   "outputs": [],
   "source": [
    "#Load all dataframes\n",
    "employment_df = pd.read_csv('./csv_files/aged_15plus_employment_rate_percent.csv')\n",
    "locations = pd.read_csv('./csv_files/ddf--entities--geo--country.csv')\n",
    "hdi_df = pd.read_csv('./csv_files/hdi_human_development_index.csv')\n",
    "income_df = pd.read_csv('./csv_files/income_per_person_gdppercapita_ppp_inflation_adjusted.csv')\n",
    "fertility_df = pd.read_csv('./csv_files/children_per_woman_total_fertility.csv')\n",
    "life_df = pd.read_csv('./csv_files/life_expectancy_years.csv')\n",
    "population_df = pd.read_csv('./csv_files/population_density_per_square_km.csv')\n",
    "civil_df = pd.read_csv('./csv_files/cliberties_idea.csv')"
   ]
  },
  {
   "cell_type": "code",
   "execution_count": null,
   "id": "3098d113",
   "metadata": {},
   "outputs": [],
   "source": []
  }
 ],
 "metadata": {
  "kernelspec": {
   "display_name": "Python 3 (ipykernel)",
   "language": "python",
   "name": "python3"
  },
  "language_info": {
   "codemirror_mode": {
    "name": "ipython",
    "version": 3
   },
   "file_extension": ".py",
   "mimetype": "text/x-python",
   "name": "python",
   "nbconvert_exporter": "python",
   "pygments_lexer": "ipython3",
   "version": "3.9.7"
  }
 },
 "nbformat": 4,
 "nbformat_minor": 5
}
